{
  "cells": [
    {
      "cell_type": "markdown",
      "metadata": {
        "id": "view-in-github",
        "colab_type": "text"
      },
      "source": [
        "<a href=\"https://colab.research.google.com/github/masalazarl/MetNumUN2022II/blob/main/LAB%208/Week1LUpivotingGroup5.ipynb\" target=\"_parent\"><img src=\"https://colab.research.google.com/assets/colab-badge.svg\" alt=\"Open In Colab\"/></a>"
      ]
    },
    {
      "cell_type": "markdown",
      "metadata": {
        "id": "nep9j_pCyA6_"
      },
      "source": [
        "# I. $LU$ factorization of a square matrix"
      ]
    },
    {
      "cell_type": "markdown",
      "metadata": {
        "id": "BvRKF1s4yA7F"
      },
      "source": [
        "Consider a simple naive implementation of the LU decomposition. \n",
        "\n",
        "Note that we're using the `numpy` arrays to represent matrices [do **not** use `np.matrix`]."
      ]
    },
    {
      "cell_type": "code",
      "execution_count": 1,
      "metadata": {
        "id": "ORGU-3QPyA7G"
      },
      "outputs": [],
      "source": [
        "import numpy as np\n",
        "\n",
        "def diy_lu(a):\n",
        "    \"\"\"Construct the LU decomposition of the input matrix.\n",
        "    \n",
        "    Naive LU decomposition: work column by column, accumulate elementary triangular matrices.\n",
        "    No pivoting.\n",
        "    \"\"\"\n",
        "    N = a.shape[0]\n",
        "    \n",
        "    u = a.copy()\n",
        "    L = np.eye(N)\n",
        "    for j in range(N-1):\n",
        "        lam = np.eye(N)\n",
        "        gamma = u[j+1:, j] / u[j, j]\n",
        "        lam[j+1:, j] = -gamma\n",
        "        u = lam @ u\n",
        "\n",
        "        lam[j+1:, j] = gamma\n",
        "        L = L @ lam\n",
        "    return L, u"
      ]
    },
    {
      "cell_type": "code",
      "execution_count": 14,
      "metadata": {
        "colab": {
          "base_uri": "https://localhost:8080/"
        },
        "id": "8L_mOJT6yA7I",
        "outputId": "f1cbf278-6997-4f4a-da38-5c617f0cfcf7"
      },
      "outputs": [
        {
          "output_type": "execute_result",
          "data": {
            "text/plain": [
              "4"
            ]
          },
          "metadata": {},
          "execution_count": 14
        }
      ],
      "source": [
        "# Now, generate a full rank matrix and test the naive implementation\n",
        "\n",
        "import numpy as np\n",
        "\n",
        "N = 4\n",
        "a = np.zeros((N, N), dtype=float)\n",
        "for i in range(N):\n",
        "    for j in range(N):\n",
        "        a[i, j] = 3. / (0.6*i*j + 1)\n",
        "\n",
        "np.linalg.matrix_rank(a)"
      ]
    },
    {
      "cell_type": "code",
      "execution_count": 3,
      "metadata": {
        "id": "4YyRwrGdyA7J"
      },
      "outputs": [],
      "source": [
        "# Tweak the printing of floating-point numbers, for clarity\n",
        "np.set_printoptions(precision=3)"
      ]
    },
    {
      "cell_type": "code",
      "execution_count": 15,
      "metadata": {
        "colab": {
          "base_uri": "https://localhost:8080/"
        },
        "id": "k8hRqEa2yA7K",
        "outputId": "44436690-93f5-40bc-8d75-8b471a1142da"
      },
      "outputs": [
        {
          "output_type": "stream",
          "name": "stdout",
          "text": [
            "[[1.    0.    0.    0.   ]\n",
            " [1.    1.    0.    0.   ]\n",
            " [1.    1.455 1.    0.   ]\n",
            " [1.    1.714 1.742 1.   ]] \n",
            "\n",
            "[[ 3.000e+00  3.000e+00  3.000e+00  3.000e+00]\n",
            " [ 0.000e+00 -1.125e+00 -1.636e+00 -1.929e+00]\n",
            " [ 0.000e+00  0.000e+00  2.625e-01  4.574e-01]\n",
            " [ 0.000e+00  2.220e-16  0.000e+00 -2.197e-02]] \n",
            "\n",
            "[[ 0.000e+00  0.000e+00  0.000e+00  0.000e+00]\n",
            " [ 0.000e+00  0.000e+00  0.000e+00  0.000e+00]\n",
            " [ 0.000e+00  0.000e+00 -1.110e-16  1.110e-16]\n",
            " [ 0.000e+00  0.000e+00  3.331e-16 -2.220e-16]]\n"
          ]
        }
      ],
      "source": [
        "L, u = diy_lu(a)\n",
        "\n",
        "print(L, \"\\n\")\n",
        "print(u, \"\\n\")\n",
        "\n",
        "# Quick sanity check: L times U must equal the original matrix, up to floating-point errors.\n",
        "print(L@u - a)"
      ]
    },
    {
      "cell_type": "markdown",
      "metadata": {
        "id": "fa75nuWIyA7K"
      },
      "source": [
        "# II. The need for pivoting"
      ]
    },
    {
      "cell_type": "markdown",
      "metadata": {
        "id": "hUMRbRNvyA7L"
      },
      "source": [
        "Let's tweak the matrix a little bit, we only change a single element:"
      ]
    },
    {
      "cell_type": "code",
      "execution_count": 22,
      "metadata": {
        "id": "ifc7hh7dyA7L"
      },
      "outputs": [],
      "source": [
        "a1 = a.copy()\n",
        "a1[1, 1] = 4"
      ]
    },
    {
      "cell_type": "markdown",
      "metadata": {
        "id": "Dms9ClpPyA7M"
      },
      "source": [
        "Resulting matix still has full rank, but the naive LU routine breaks down."
      ]
    },
    {
      "cell_type": "code",
      "execution_count": 21,
      "metadata": {
        "colab": {
          "base_uri": "https://localhost:8080/"
        },
        "id": "xbT2g2UgyA7N",
        "outputId": "6173149f-e7cd-4e83-a9f6-82a23fa967b8"
      },
      "outputs": [
        {
          "output_type": "execute_result",
          "data": {
            "text/plain": [
              "4"
            ]
          },
          "metadata": {},
          "execution_count": 21
        }
      ],
      "source": [
        "np.linalg.matrix_rank(a1)"
      ]
    },
    {
      "cell_type": "code",
      "execution_count": 23,
      "metadata": {
        "colab": {
          "base_uri": "https://localhost:8080/"
        },
        "id": "Il2-OK2-yA7N",
        "outputId": "a19fad58-8e63-4d78-c352-bd5a7d347ce2"
      },
      "outputs": [
        {
          "output_type": "stream",
          "name": "stdout",
          "text": [
            "[[3.    3.    3.    3.   ]\n",
            " [3.    1.875 1.364 1.071]\n",
            " [3.    1.364 0.882 0.652]\n",
            " [3.    1.071 0.652 0.469]]\n",
            "[[3.    3.    3.    3.   ]\n",
            " [3.    4.    1.364 1.071]\n",
            " [3.    1.364 0.882 0.652]\n",
            " [3.    1.071 0.652 0.469]]\n"
          ]
        }
      ],
      "source": [
        "print(a)\n",
        "print(a1)"
      ]
    },
    {
      "cell_type": "code",
      "execution_count": 24,
      "metadata": {
        "colab": {
          "base_uri": "https://localhost:8080/"
        },
        "id": "JAwlL66EyA7N",
        "outputId": "25bab9e8-e535-48a2-95d3-962b2ad3db91"
      },
      "outputs": [
        {
          "output_type": "stream",
          "name": "stdout",
          "text": [
            "[[ 1.     0.     0.     0.   ]\n",
            " [ 1.     1.     0.     0.   ]\n",
            " [ 1.    -1.636  1.     0.   ]\n",
            " [ 1.    -1.929  1.148  1.   ]] [[ 3.     3.     3.     3.   ]\n",
            " [ 0.     1.    -1.636 -1.929]\n",
            " [ 0.     0.    -4.795 -5.504]\n",
            " [ 0.     0.     0.     0.066]]\n"
          ]
        }
      ],
      "source": [
        "l, u = diy_lu(a1)\n",
        "\n",
        "print(l, u)"
      ]
    },
    {
      "cell_type": "markdown",
      "metadata": {
        "id": "D1ijMXPJyA7O"
      },
      "source": [
        "### Test II.1\n",
        "\n",
        "For a naive LU decomposition to work, all leading minors of a matrix should be non-zero. Check if this requirement is satisfied for the two matrices `a` and `a1`.\n",
        "\n",
        "(20% of the grade)"
      ]
    },
    {
      "cell_type": "code",
      "execution_count": 25,
      "metadata": {
        "id": "WoBBI9olyA7O"
      },
      "outputs": [],
      "source": [
        "def check_leading_minors_det(a):\n",
        "    \n",
        "    '''\n",
        "    checking that all leading minors of a matrix is non-zero\n",
        "    '''\n",
        "    \n",
        "    is_non_zero = True\n",
        "    \n",
        "    for k in range(a.shape[0]):\n",
        "        if np.linalg.det(a[:k+1,:k+1]) == 0:\n",
        "            is_non_zero = False\n",
        "            break\n",
        "            \n",
        "    return is_non_zero"
      ]
    },
    {
      "cell_type": "code",
      "execution_count": 26,
      "metadata": {
        "colab": {
          "base_uri": "https://localhost:8080/"
        },
        "id": "7mb69WnsyA7O",
        "outputId": "4b29ebbe-ac15-4a54-f9c5-30ccde8db7a4"
      },
      "outputs": [
        {
          "output_type": "stream",
          "name": "stdout",
          "text": [
            "True\n",
            "True\n"
          ]
        }
      ],
      "source": [
        "print(check_leading_minors_det(a1))\n",
        "print(check_leading_minors_det(a))"
      ]
    },
    {
      "cell_type": "markdown",
      "metadata": {
        "id": "yAVqJDaRyA7P"
      },
      "source": [
        "### Test II.2\n",
        "\n",
        "Modify the `diy_lu` routine to implement column pivoting. Keep track of pivots, you can either construct a permutation matrix, or a swap array (your choice).\n",
        "\n",
        "(40% of the grade)\n",
        "\n",
        "Implement a function to reconstruct the original matrix from a decompositon. Test your routines on the matrices `a` and `a1`.\n",
        "\n",
        "(40% of the grade)"
      ]
    },
    {
      "cell_type": "code",
      "execution_count": 11,
      "metadata": {
        "id": "eki1mEsyyA7P"
      },
      "outputs": [],
      "source": [
        "def modified_diy_lu(a):\n",
        "    \n",
        "    N = a.shape[0]\n",
        "    \n",
        "    u = a.copy()\n",
        "    L = np.eye(N)\n",
        "    P = np.eye(N)\n",
        "    \n",
        "    for j in range(N-1):\n",
        "        lam = np.eye(N)\n",
        "        \n",
        "        perm = np.eye(N)\n",
        "        pivot_pos = np.argmax(abs(u[j:,j])) + j\n",
        "        perm[j],perm[pivot_pos] = perm[pivot_pos],perm[j].copy()\n",
        "        u = perm @ u\n",
        "        \n",
        "        gamma = u[j+1:, j] / u[j, j]\n",
        "        lam[j+1:, j] = -gamma\n",
        "        u = lam @ u\n",
        "    \n",
        "        \n",
        "        lam[j+1:, j] = gamma\n",
        "        P = P @ perm\n",
        "        L = L @ perm.T @ lam\n",
        "    return P , P.T@L , u"
      ]
    },
    {
      "cell_type": "code",
      "execution_count": 27,
      "metadata": {
        "id": "LzxGi6alyA7Q"
      },
      "outputs": [],
      "source": [
        "def matr_prod(matricies):\n",
        "    N = matricies[0].shape[0]\n",
        "    A = np.eye(N)\n",
        "    for m in matricies:\n",
        "        A = A @ m\n",
        "    return A"
      ]
    },
    {
      "cell_type": "code",
      "execution_count": 28,
      "metadata": {
        "colab": {
          "base_uri": "https://localhost:8080/"
        },
        "id": "6ymxA87XyA7Q",
        "outputId": "7c6a4844-0705-498c-a696-c033ccc9eb83"
      },
      "outputs": [
        {
          "output_type": "stream",
          "name": "stdout",
          "text": [
            "[[ 0.000e+00  0.000e+00  0.000e+00  0.000e+00]\n",
            " [ 0.000e+00  0.000e+00  2.220e-16 -2.220e-16]\n",
            " [ 0.000e+00  0.000e+00  0.000e+00  3.331e-16]\n",
            " [ 0.000e+00  0.000e+00  2.220e-16 -5.551e-17]]\n",
            "[[ 0.000e+00  0.000e+00  0.000e+00  0.000e+00]\n",
            " [ 0.000e+00  0.000e+00  0.000e+00  0.000e+00]\n",
            " [ 0.000e+00  0.000e+00  0.000e+00  3.331e-16]\n",
            " [ 0.000e+00  0.000e+00  2.220e-16 -5.551e-17]]\n"
          ]
        }
      ],
      "source": [
        "print(matr_prod(modified_diy_lu(a1)) - a1)\n",
        "\n",
        "print(matr_prod(modified_diy_lu(a)) - a)"
      ]
    }
  ],
  "metadata": {
    "kernelspec": {
      "display_name": "Python 3",
      "language": "python",
      "name": "python3"
    },
    "language_info": {
      "codemirror_mode": {
        "name": "ipython",
        "version": 3
      },
      "file_extension": ".py",
      "mimetype": "text/x-python",
      "name": "python",
      "nbconvert_exporter": "python",
      "pygments_lexer": "ipython3",
      "version": "3.7.4"
    },
    "colab": {
      "provenance": [],
      "include_colab_link": true
    }
  },
  "nbformat": 4,
  "nbformat_minor": 0
}