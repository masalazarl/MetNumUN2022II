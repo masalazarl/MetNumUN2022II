{
  "nbformat": 4,
  "nbformat_minor": 0,
  "metadata": {
    "kernelspec": {
      "display_name": "Python 3",
      "language": "python",
      "name": "python3"
    },
    "language_info": {
      "codemirror_mode": {
        "name": "ipython",
        "version": 3
      },
      "file_extension": ".py",
      "mimetype": "text/x-python",
      "name": "python",
      "nbconvert_exporter": "python",
      "pygments_lexer": "ipython3",
      "version": "3.5.2"
    },
    "colab": {
      "provenance": [],
      "collapsed_sections": [],
      "include_colab_link": true
    }
  },
  "cells": [
    {
      "cell_type": "markdown",
      "metadata": {
        "id": "view-in-github",
        "colab_type": "text"
      },
      "source": [
        "<a href=\"https://colab.research.google.com/github/masalazarl/MetNumUN2022II/blob/main/LAB%205/group5AlgorithmicToolboxWeek1Quadratic.ipynb\" target=\"_parent\"><img src=\"https://colab.research.google.com/assets/colab-badge.svg\" alt=\"Open In Colab\"/></a>"
      ]
    },
    {
      "cell_type": "markdown",
      "metadata": {
        "id": "R1JjZ592UF-K"
      },
      "source": [
        "## Quadratic equation  $a x^2 + b x + c = 0$\n",
        "\n",
        "$$ x_1,x_2 = \\frac{-b \\pm \\sqrt{b^2-4ac}}{2a}$$\n",
        "\n",
        "Are the same root (zeros) of \n",
        "\n",
        "$$x^2 + \\frac{b}{a} x + \\frac{c}{c} = 0$$"
      ]
    },
    {
      "cell_type": "code",
      "source": [
        "import numpy as np\n",
        "import matplotlib.pyplot as plt"
      ],
      "metadata": {
        "id": "QURDMpX2kfxz"
      },
      "execution_count": 2,
      "outputs": []
    },
    {
      "cell_type": "code",
      "metadata": {
        "colab": {
          "base_uri": "https://localhost:8080/",
          "height": 265
        },
        "id": "SxD-No_oUDzB",
        "outputId": "686c7c58-ecfa-4dcd-eed8-4e171e9a9e78"
      },
      "source": [
        "def quadratic(a,b,c,x):\n",
        "    return a*x**2+b*x+c\n",
        "\n",
        "def quadraticeqiv(a,b,c,x):\n",
        "    return x**2+(b/a)*x+(c/a)\n",
        "\n",
        "# (2x-1) (x+2) = 2x**2 +3x -2 =0;  x_1 = 1/2, x_2 =-2\n",
        "# Equivalent x**2 +3/2x -1 = 0 \n",
        "\n",
        "x = np.arange(-2.5, 1, 0.05)\n",
        "z = np.zeros(len(x))\n",
        "y = quadratic(2,3,-2,x)\n",
        "ynew = quadraticeqiv(2,3,-2,x)\n",
        "plt.plot(x, y, x, ynew, x,z)\n",
        "plt.show()"
      ],
      "execution_count": 3,
      "outputs": [
        {
          "output_type": "display_data",
          "data": {
            "text/plain": [
              "<Figure size 432x288 with 1 Axes>"
            ],
            "image/png": "[encoded data removed]"
          },
          "metadata": {
            "needs_background": "light"
          }
        }
      ]
    },
    {
      "cell_type": "markdown",
      "metadata": {
        "id": "5Mj2AvtnTyys"
      },
      "source": [
        "## Solve a quadratic equation, $x^2 + b x + c = 0$.\n",
        "\n",
        "\n",
        "Write a function which receives $b$ and $c$, the coefficients of a monic quadratic polynomial, $x^2 + b x + c$, and returns the pair of its roots. Your function should always return two roots first $ \\frac{-b + \\sqrt{b^2-4ac}}{2a}$ and next $\\frac{-b - \\sqrt{b^2-4ac}}{2a}$  even if quadratic has a double root.\n",
        "\n",
        "For example, given a quadratic $x^2 + 4x + 3$, your function should return a pair of $(-3.0, -1.0)$. Of course, in floating point, your answers may differ from an exact unity.\n",
        "\n",
        "Your function also must correctly handle complex roots (to this end, you might need the `math` module from the standard library and `complex` to built complex numbers)."
      ]
    },
    {
      "cell_type": "code",
      "source": [
        "import math \n",
        "import cmath"
      ],
      "metadata": {
        "id": "LNOeNkMsk1Ns"
      },
      "execution_count": 8,
      "outputs": []
    },
    {
      "cell_type": "code",
      "metadata": {
        "id": "cC1VlR0iTyAM"
      },
      "source": [
        "def solve_quad(b, c):\n",
        "    \"\"\"Solve a quadratic equation, x**2 + bx + c = 0.\n",
        "    \n",
        "    Parameters\n",
        "    ----------\n",
        "    b, c : float\n",
        "       Coefficients\n",
        "       \n",
        "    Returns\n",
        "    -------\n",
        "    x1, x2 : float or complex\n",
        "       Roots.  \"\"\"\n",
        "\n",
        "\n",
        "    discriminant = b**2 - 4*c\n",
        "    if discriminant == b**2:\n",
        "        x1 = -b\n",
        "        x2 = -(c/-x1)\n",
        "        return x1,x2\n",
        "\n",
        "    elif discriminant >= 0: \n",
        "        x1 = (-b + math.sqrt(discriminant))/2\n",
        "        x2 = (-b - math.sqrt(discriminant))/2\n",
        "        return x1,x2\n",
        "\n",
        "    else:\n",
        "        x1 = (-b + cmath.sqrt(discriminant))/2\n",
        "        x2 = (-b - cmath.sqrt(discriminant))/2\n",
        "        return x1,x2"
      ],
      "execution_count": 4,
      "outputs": []
    },
    {
      "cell_type": "markdown",
      "metadata": {
        "id": "DtLraQJFVwpc"
      },
      "source": [
        "Test the your function on several examples against a calculation by hand. Once you're sure that your function works, try these five test cases below. \n",
        "\n",
        "Note that the last two test cases are special: they test whether your function handles extreme cases where a too simple approach is prone to a catastrophic cancellation. Make sure your function passes all five tests.\n",
        "\n",
        "This exercise is graded, each test case contributes a 20% of the grade"
      ]
    },
    {
      "cell_type": "code",
      "metadata": {
        "id": "HuWJU41fV1Ny"
      },
      "source": [
        "from numpy import allclose"
      ],
      "execution_count": 5,
      "outputs": []
    },
    {
      "cell_type": "code",
      "metadata": {
        "id": "G82jYtUyV13S"
      },
      "source": [
        "variants = [{'b': 4.0, 'c': 3.0},\n",
        "            {'b': 2.0, 'c': 1.0},\n",
        "            {'b': 0.5, 'c': 4.0},\n",
        "            {'b': 1e0, 'c': 3.0},\n",
        "            {'b': -1e10, 'c': 4.0},]"
      ],
      "execution_count": 6,
      "outputs": []
    },
    {
      "cell_type": "code",
      "metadata": {
        "colab": {
          "base_uri": "https://localhost:8080/"
        },
        "id": "2EzkqR_QV36D",
        "outputId": "e3f51a56-9ca5-45eb-8737-8651092611d3"
      },
      "source": [
        "for var in variants:\n",
        "    x1, x2 = solve_quad(**var)\n",
        "    print(allclose(x1*x2, var['c']))"
      ],
      "execution_count": 9,
      "outputs": [
        {
          "output_type": "stream",
          "name": "stdout",
          "text": [
            "True\n",
            "True\n",
            "True\n",
            "True\n",
            "True\n"
          ]
        }
      ]
    },
    {
      "cell_type": "code",
      "metadata": {
        "colab": {
          "base_uri": "https://localhost:8080/"
        },
        "id": "8HLE3pdnWG_z",
        "outputId": "3088dab2-b06e-4154-c955-d986a42151a9"
      },
      "source": [
        "for var in variants:\n",
        "    x1, x2 = solve_quad(**var)\n",
        "    print(\"solve_quad(\"+str(var['b'])+\",\"+str(var['c'])+\")\",solve_quad(**var) )"
      ],
      "execution_count": 10,
      "outputs": [
        {
          "output_type": "stream",
          "name": "stdout",
          "text": [
            "solve_quad(4.0,3.0) (-1.0, -3.0)\n",
            "solve_quad(2.0,1.0) (-1.0, -1.0)\n",
            "solve_quad(0.5,4.0) ((-0.25+1.984313483298443j), (-0.25-1.984313483298443j))\n",
            "solve_quad(1.0,3.0) ((-0.5+1.6583123951777j), (-0.5-1.6583123951777j))\n",
            "solve_quad(-10000000000.0,4.0) (10000000000.0, 4e-10)\n"
          ]
        }
      ]
    },
    {
      "cell_type": "markdown",
      "metadata": {
        "id": "33dZJJaPgapL"
      },
      "source": [
        "## Analytic solutions with sympy solveset."
      ]
    },
    {
      "cell_type": "code",
      "metadata": {
        "colab": {
          "base_uri": "https://localhost:8080/",
          "height": 37
        },
        "id": "hDNLnEhceHJU",
        "outputId": "89f2e128-f282-4f5e-fdcf-4285cc284e44"
      },
      "source": [
        "from sympy import Symbol, solveset, Eq, Rational\n",
        "x = Symbol('x')\n",
        "solveset(Eq(x**2 + 4*x + 3, 0), x)"
      ],
      "execution_count": 11,
      "outputs": [
        {
          "output_type": "execute_result",
          "data": {
            "text/plain": [
              "FiniteSet(-3, -1)"
            ],
            "text/latex": "$\\displaystyle \\left\\{-3, -1\\right\\}$"
          },
          "metadata": {},
          "execution_count": 11
        }
      ]
    },
    {
      "cell_type": "code",
      "metadata": {
        "colab": {
          "base_uri": "https://localhost:8080/",
          "height": 37
        },
        "id": "fsR9jpplfPqb",
        "outputId": "e8bbc348-5bcd-4eaf-94ae-889bf054b233"
      },
      "source": [
        "solveset(Eq(x**2 + 2*x + 1, 0), x)"
      ],
      "execution_count": 12,
      "outputs": [
        {
          "output_type": "execute_result",
          "data": {
            "text/plain": [
              "FiniteSet(-1)"
            ],
            "text/latex": "$\\displaystyle \\left\\{-1\\right\\}$"
          },
          "metadata": {},
          "execution_count": 12
        }
      ]
    },
    {
      "cell_type": "code",
      "metadata": {
        "colab": {
          "base_uri": "https://localhost:8080/",
          "height": 68
        },
        "id": "owasE6zrgBLc",
        "outputId": "d5491ba2-8da5-4795-dfb6-40fa783ff8bf"
      },
      "source": [
        "solveset(Eq(x**2 + Rational(1,2)*x + 1, 0), x)"
      ],
      "execution_count": 13,
      "outputs": [
        {
          "output_type": "execute_result",
          "data": {
            "text/plain": [
              "FiniteSet(-1/4 - sqrt(15)*I/4, -1/4 + sqrt(15)*I/4)"
            ],
            "text/latex": "$\\displaystyle \\left\\{- \\frac{1}{4} - \\frac{\\sqrt{15} i}{4}, - \\frac{1}{4} + \\frac{\\sqrt{15} i}{4}\\right\\}$"
          },
          "metadata": {},
          "execution_count": 13
        }
      ]
    },
    {
      "cell_type": "code",
      "metadata": {
        "colab": {
          "base_uri": "https://localhost:8080/",
          "height": 47
        },
        "id": "rOagaA89e1SE",
        "outputId": "7faa548e-fc18-4e0b-e34c-5a6962906b1c"
      },
      "source": [
        "solveset(Eq(x**2 + 10000000000*x + 3, 0), x)"
      ],
      "execution_count": 14,
      "outputs": [
        {
          "output_type": "execute_result",
          "data": {
            "text/plain": [
              "FiniteSet(-5000000000 + sqrt(24999999999999999997), -5000000000 - sqrt(24999999999999999997))"
            ],
            "text/latex": "$\\displaystyle \\left\\{-5000000000 - \\sqrt{24999999999999999997}, -5000000000 + \\sqrt{24999999999999999997}\\right\\}$"
          },
          "metadata": {},
          "execution_count": 14
        }
      ]
    },
    {
      "cell_type": "code",
      "metadata": {
        "colab": {
          "base_uri": "https://localhost:8080/",
          "height": 47
        },
        "id": "QROcdwRJexu7",
        "outputId": "83055028-f294-4479-b069-39bc4fa65bfa"
      },
      "source": [
        "solveset(Eq(x**2 - 10000000000*x + 4, 0), x)"
      ],
      "execution_count": 15,
      "outputs": [
        {
          "output_type": "execute_result",
          "data": {
            "text/plain": [
              "FiniteSet(5000000000 - 2*sqrt(6249999999999999999), 5000000000 + 2*sqrt(6249999999999999999))"
            ],
            "text/latex": "$\\displaystyle \\left\\{5000000000 - 2 \\sqrt{6249999999999999999}, 5000000000 + 2 \\sqrt{6249999999999999999}\\right\\}$"
          },
          "metadata": {},
          "execution_count": 15
        }
      ]
    },
    {
      "cell_type": "markdown",
      "metadata": {
        "id": "zOj_mh6SrPkk"
      },
      "source": [
        "\n",
        "## Po-Shen Loh method to solve the quadratic equation $x^2 + b x + c = 0$ \n",
        "\n",
        "https://youtu.be/ZBalWWHYFQc\n",
        "\n",
        "![hoShenLo.png](https://raw.githubusercontent.com/gjhernandezp/NM/main/Computer%20Arithmetic/PhoShenLo.png)\n",
        "\n",
        "\n",
        "\n",
        "\n",
        "\n",
        "\n"
      ]
    },
    {
      "cell_type": "markdown",
      "metadata": {
        "id": "P2R4Kb2kaHzD"
      },
      "source": [
        "## Solve a quadratic equation, $x^2 + b x + c = 0$ using the Po-Shen Loh \n",
        "\n",
        "$$ x^2 + b x + c =  (x + x_1) (x  + x_2) = (x  - (-x_1)) (x  - (-x_2)) $$\n",
        "with\n",
        "$$ x_1 + x_2 = b$$\n",
        "and \n",
        "$$ x_1 * x_2 = c$$\n",
        "\n",
        "$$ x_1 = \\frac{b}{2} - u$$\n",
        "$$ x_2 = \\frac{b}{2} + u$$\n",
        "\n",
        "$$  c = x_1 x_2  = \\left (\\frac{b}{2}\\right)^2 -  u^2$$\n",
        "\n",
        "$$  u = \\sqrt {\\left(\\frac{b}{2}\\right)^2 -  c} $$\n",
        "\n",
        "Roots are \n",
        "\n",
        "$$ - x_1 = -\\left(\\frac{b}{2} - u\\right)$$\n",
        "$$ - x_2 = -\\left(\\frac{b}{2} + u\\right)$$\n",
        "\n",
        "\n",
        "\n",
        "\n",
        "Write a function which receives $b$ and $c$, the coefficients of a monic quadratic polynomial, $x^2 + b x + c$, and returns $u$ form the Po-Shen Loh method and the pair of its roots. Your function should always return three values first $ \\frac{-b - \\sqrt{b^2-4ac}}{2a}$ and next $\\frac{-b + \\sqrt{b^2-4ac}}{2a}$  even if quadratic has a double root.\n",
        "\n",
        "For example, given a quadratic $x^2 - 2x + 1$, your function should return  $(0j, (1+0j), (1+0j))$. Of course, in floating point, your answers may differ from an exact unity.\n",
        "\n",
        "Your function also must correctly handle complex roots (to this end, you might need the `cmath` module from the standard library) and if  `b**2-(4*c) == b**2` because floting-point limitations should return $u$ equal to $-1$\n",
        "\n",
        "\n",
        "\n"
      ]
    },
    {
      "cell_type": "code",
      "source": [
        "import cmath"
      ],
      "metadata": {
        "id": "tuKaA2K-lV8z"
      },
      "execution_count": 16,
      "outputs": []
    },
    {
      "cell_type": "code",
      "metadata": {
        "id": "GxQXT4W5ldqs"
      },
      "source": [
        "def solve_quad_Po_Shen_Loh(b, c):\n",
        "\n",
        "   \"\"\"Solve a quadratic equation, x**2 + bx + c = 0.\n",
        "    \n",
        "    Parameters\n",
        "    ----------\n",
        "    b, c : float\n",
        "       Coefficients\n",
        "       \n",
        "    Returns\n",
        "    -------\n",
        "    u : The distance from b/2 to x and x2  and -1  if floting-point limitations\n",
        "    x1, x2 : float or complex roots.  \"\"\"\n",
        "    \n",
        "   discriminant = b**2 - 4*c\n",
        "   if discriminant == b**2: \n",
        "     # 0.00...04 floating problem \n",
        "     u = -1 \n",
        "     x1 = -b\n",
        "     x2 = -(c/-x1)\n",
        "     return u, x1, x2\n",
        "   elif discriminant >= 0: \n",
        "     # Real\n",
        "     u = cmath.sqrt((b/2)**2 - c)\n",
        "     x1 = -((b/2) - u)\n",
        "     x2 = -((b/2) + u)\n",
        "     return u,x1,x2\n",
        "   else:\n",
        "     # Complex\n",
        "     u = cmath.sqrt((b/2)**2 - c)\n",
        "     x1 = -((b/2) - u)\n",
        "     x2 = -((b/2) + u)\n",
        "     return u,x1,x2\n",
        "   \n",
        "  \n",
        "   return u,x1,x2\n"
      ],
      "execution_count": 17,
      "outputs": []
    },
    {
      "cell_type": "markdown",
      "metadata": {
        "id": "XA1yEMI-rz8I"
      },
      "source": [
        "Test the your function on several examples against a calculation by hand. Once you're sure that your function works, try these five test cases below. \n",
        "\n",
        "Note that the last two test cases are special: they test whether your function handles extreme cases where a too simple approach is prone to a catastrophic cancellation. Make sure your function passes all five tests.\n",
        "\n",
        "This exercise is graded, each test case contributes a 20% of the grade. "
      ]
    },
    {
      "cell_type": "code",
      "metadata": {
        "id": "rB96llJzm8zt"
      },
      "source": [
        "from numpy import allclose"
      ],
      "execution_count": 18,
      "outputs": []
    },
    {
      "cell_type": "code",
      "metadata": {
        "collapsed": true,
        "id": "A--UYkmlrz8J"
      },
      "source": [
        "variants = [{'b': 4.0, 'c': 3.0},\n",
        "            {'b': 2.0, 'c': 1.0},\n",
        "            {'b': 0.5, 'c': 4.0},\n",
        "            {'b': 1e10, 'c': 3.0},\n",
        "            {'b': -1e10, 'c': 4.0},]"
      ],
      "execution_count": 19,
      "outputs": []
    },
    {
      "cell_type": "code",
      "metadata": {
        "colab": {
          "base_uri": "https://localhost:8080/"
        },
        "id": "TpSM9Zh9rz8K",
        "outputId": "4a5a8a05-d807-4759-fd4a-4214f3635214"
      },
      "source": [
        "for var in variants:\n",
        "    u, x1, x2 = solve_quad_Po_Shen_Loh(**var)\n",
        "    print(allclose(x1*x2, var['c']))"
      ],
      "execution_count": 20,
      "outputs": [
        {
          "output_type": "stream",
          "name": "stdout",
          "text": [
            "True\n",
            "True\n",
            "True\n",
            "True\n",
            "True\n"
          ]
        }
      ]
    },
    {
      "cell_type": "code",
      "metadata": {
        "colab": {
          "base_uri": "https://localhost:8080/"
        },
        "id": "4Zh88PhlMfGC",
        "outputId": "440d7e34-f621-484b-da72-0beffba42850"
      },
      "source": [
        "for var in variants:\n",
        "    u, x1, x2 = solve_quad_Po_Shen_Loh(**var)\n",
        "    print(\"solve_quad_Po_Shen_Loh(\"+str(var['b'])+\",\"+str(var['c'])+\")\",solve_quad_Po_Shen_Loh(**var) )"
      ],
      "execution_count": 21,
      "outputs": [
        {
          "output_type": "stream",
          "name": "stdout",
          "text": [
            "solve_quad_Po_Shen_Loh(4.0,3.0) ((1+0j), (-1-0j), (-3-0j))\n",
            "solve_quad_Po_Shen_Loh(2.0,1.0) (0j, (-1-0j), (-1-0j))\n",
            "solve_quad_Po_Shen_Loh(0.5,4.0) (1.984313483298443j, (-0.25+1.984313483298443j), (-0.25-1.984313483298443j))\n",
            "solve_quad_Po_Shen_Loh(10000000000.0,3.0) (-1, -10000000000.0, -3e-10)\n",
            "solve_quad_Po_Shen_Loh(-10000000000.0,4.0) (-1, 10000000000.0, 4e-10)\n"
          ]
        }
      ]
    }
  ]
}