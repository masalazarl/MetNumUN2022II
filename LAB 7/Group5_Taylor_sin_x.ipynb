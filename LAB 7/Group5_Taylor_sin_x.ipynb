{
  "nbformat": 4,
  "nbformat_minor": 0,
  "metadata": {
    "colab": {
      "provenance": [],
      "collapsed_sections": [
        "fc0gbEw-iTQ8"
      ],
      "include_colab_link": true
    },
    "kernelspec": {
      "name": "python3",
      "display_name": "Python 3"
    },
    "language_info": {
      "name": "python"
    }
  },
  "cells": [
    {
      "cell_type": "markdown",
      "metadata": {
        "id": "view-in-github",
        "colab_type": "text"
      },
      "source": [
        "<a href=\"https://colab.research.google.com/github/masalazarl/MetNumUN2022II/blob/main/LAB%207/Group5_Taylor_sin_x.ipynb\" target=\"_parent\"><img src=\"https://colab.research.google.com/assets/colab-badge.svg\" alt=\"Open In Colab\"/></a>"
      ]
    },
    {
      "cell_type": "markdown",
      "metadata": {
        "id": "ZuGY2wUTjFDm"
      },
      "source": [
        "# Taylor series of $sin(x)$\n",
        "\n",
        "$$ \n",
        "\\begin{array}{ll}\n",
        "sin(x)  & =  & \\sum_{i=0}^{\\infty} \\frac{-1^i}{(2i+1)!}  x^{2i+1} \\\\\n",
        "        & = & x - \\frac{x^3}{3!} + \\frac{x^5}{5!} - \\frac{x^7}{7!} + \\cdots\n",
        "\\end{array} \n",
        "$$\n",
        "\n",
        "\n",
        "Approximation \n",
        "$$ sin(x) ≈  x - \\frac{x^3}{3!} + \\frac{x^5}{5!} - \\frac{x^7}{7!} + \\cdots$$\n"
      ]
    },
    {
      "cell_type": "markdown",
      "source": [
        "Interact code in Sagemath for $sin(x)$\n",
        "\n",
        "```python\n",
        "# Interact Taylor Series of $$f(x) = sin(x)$$\n",
        "# Explanatory example: Taylor Series – wiki.sagemath.org/interact https://wiki.sagemath.org/interact\n",
        "x   = SR.var('x')\n",
        "x0  = 0\n",
        "f   = sin(x)\n",
        "p   = plot(f, -20, 20, thickness=2)\n",
        "dot = point((x0, f(x=x0)), pointsize=80, rgbcolor=(1, 0, 0))\n",
        "\n",
        "@interact\n",
        "def _(order=slider([0 .. 12])):\n",
        "  ft = f.taylor(x, x0, order)\n",
        "  pt = plot(ft, -20, 20, color='green', thickness=2)\n",
        "  pretty_print(html(r'$f(x)\\;=\\;%s$' % latex(f)))\n",
        "  pretty_print(html(r'$\\hat{f}(x;%s)\\;=\\;%s+\\mathcal{O}(x^{%s})$' % (x0, latex(ft), order+1)))\n",
        "  show(dot + p + pt, ymin=-1, ymax=10)\n",
        "```"
      ],
      "metadata": {
        "id": "eFh_HdXmjdfu"
      }
    },
    {
      "cell_type": "markdown",
      "source": [
        "Animate code in Sagemath for $sin(x)$\n",
        "```python\n",
        "# Animate  Taylor Series of $$f(x) = e^x$$\n",
        "# MCS 320: Introduction to Symbolic Computation - Jan Verschelde, Mathematics, U. Illinois at Chicago  –\n",
        "# http://homepages.math.uic.edu/~jan/mcs320/mcs320notes/lec27.html#\n",
        "x   = SR.var('x')\n",
        "x0  = 0\n",
        "f   = sin(x)\n",
        "p   = plot(f, -3, 3, thickness=2,legend_label='f(x) = e^x')\n",
        "dot = point((x0, f(x=x0)), pointsize=80, rgbcolor=(1, 0, 0))\n",
        "ptaylor = [plot(f.taylor(x, x0, order), -3,3, color='green', thickness=2, legend_label= \"Taylor \" + str(order) +\": \"+ str(f.taylor(x, x0, order))) for order in range(5)]\n",
        "\n",
        "frames = [p+dot+ptaylor[int(order/12)] for order in range(60)]\n",
        "a = animate(frames, ymin=-10, ymax=10)\n",
        "a.show()\n",
        "a.save('e_to_x_taylor_animation_1.gif')\n",
        "```"
      ],
      "metadata": {
        "id": "y90QDm3UkzaF"
      }
    },
    {
      "cell_type": "markdown",
      "metadata": {
        "id": "qylNUuxmQUzq"
      },
      "source": [
        "#What is value of the partial Taylor series of $sin(x)$ up to the  $10$-th term of $sin(x)$ about $0$ (Maclaurin  series) for $x=2$\n",
        "\n",
        "$$ sin(x) ≈  x - \\frac{x^3}{3!} + \\frac{x^5}{5!} - \\frac{x^7}{7!} + \\cdots$$"
      ]
    },
    {
      "cell_type": "code",
      "metadata": {
        "colab": {
          "base_uri": "https://localhost:8080/"
        },
        "id": "UZyEw-hiQNU7",
        "outputId": "18d9468f-2225-4d90-b6e2-bbd07a078f1f"
      },
      "source": [
        "# ∑_{i=0}^n  -1^i/(2i+1)! * x^(2i+1)\n",
        "\n",
        "import math\n",
        "\n",
        "n = 10\n",
        "x = 2\n",
        "e_to_x = 0\n",
        "\n",
        "for i in range(n+1):\n",
        "    e_to_x += (((-1)**i)*(x**((2*i)+1))/math.factorial((2*i)+1))\n",
        "    print(i, 'e_to_x ≈ ∑_{i=0}^'+str(i),'x^i/i! =',e_to_x) \n",
        "print('math.sin(x) = ',math.sin(x))"
      ],
      "execution_count": null,
      "outputs": [
        {
          "output_type": "stream",
          "name": "stdout",
          "text": [
            "0 e_to_x ≈ ∑_{i=0}^0 x^i/i! = 2.0\n",
            "1 e_to_x ≈ ∑_{i=0}^1 x^i/i! = 0.6666666666666667\n",
            "2 e_to_x ≈ ∑_{i=0}^2 x^i/i! = 0.9333333333333333\n",
            "3 e_to_x ≈ ∑_{i=0}^3 x^i/i! = 0.9079365079365079\n",
            "4 e_to_x ≈ ∑_{i=0}^4 x^i/i! = 0.909347442680776\n",
            "5 e_to_x ≈ ∑_{i=0}^5 x^i/i! = 0.9092961359628027\n",
            "6 e_to_x ≈ ∑_{i=0}^6 x^i/i! = 0.9092974515196738\n",
            "7 e_to_x ≈ ∑_{i=0}^7 x^i/i! = 0.9092974264614476\n",
            "8 e_to_x ≈ ∑_{i=0}^8 x^i/i! = 0.909297426829951\n",
            "9 e_to_x ≈ ∑_{i=0}^9 x^i/i! = 0.909297426825641\n",
            "10 e_to_x ≈ ∑_{i=0}^10 x^i/i! = 0.909297426825682\n",
            "math.sin(x) =  0.9092974268256817\n"
          ]
        }
      ]
    },
    {
      "cell_type": "markdown",
      "source": [
        "# What is the minimun $n$ for which the error between the Taylor series for $sin(x)$ about $0$ (Maclaurin  series) for $x$ and *math.sin(x)*, is in absolute value less than  $\\epsilon$.\n",
        "\n",
        "$$\\min_{n \\in \\mathbb{N}}\\left|\\sum_{i=0}^{\\infty} \\frac{-1^i}{(2i+1)!}  x^{2i+1} - math.sin(x) \\right| < \\epsilon$$"
      ],
      "metadata": {
        "id": "EQulygu91CbA"
      }
    },
    {
      "cell_type": "code",
      "metadata": {
        "colab": {
          "base_uri": "https://localhost:8080/"
        },
        "id": "EfkY5SM7pZBL",
        "outputId": "165596cb-3525-4da6-f5a4-26e59179db40"
      },
      "source": [
        "# Returns Min n, |∑_{i=0}^n  -1^i/(2i+1)! * x^(2i+1) - math.sin(x)| < epsilon and ∑_{i=0}^n  -1^i/(2i+1)! * x^(2i+1)   \n",
        "import math\n",
        "\n",
        "x = 4\n",
        "epsilon = 10**(-5)\n",
        "\n",
        "e_to_x = 0\n",
        "\n",
        "print(\"n\".rjust(10),\" \",\"∑_{i=0}^n -1^i/(2i+1)!*x^(2i+1)\".center(21),\" \",\"delta = -1^i/(2i+1)!*x^(2i+1) \".center(21),\" \",\"error\".center(14),\" \",\"epsilon\".center(20))\n",
        "error = 1\n",
        "i = 0\n",
        "\n",
        "while  epsilon <= error:\n",
        "  delta =  (((-1)**i)*(x**((2*i)+1))/math.factorial((2*i)+1)) \n",
        "  e_to_x += delta\n",
        "  error = abs(math.sin(x) - e_to_x)\n",
        "  print(format(i, '10'),\"  \", format(e_to_x, '.18f'),\"  \",format(delta, '.17f'),\" \",format(error, '.17f'),\"  \",\"{:.0e}\".format(epsilon)) \n",
        "  i = i+1\n",
        "\n",
        "\n",
        "print(\"n =\",i-1) \n",
        "print(\"x =\",x) \n",
        "print('e_to_x ≈ ∑_{i=0}^'+str(i-1),' -1^i/(2i+1)! * x^(2i+1) =',e_to_x)  \n",
        "print(\"epsilon =\",\"{:.0e}\".format(epsilon)) \n",
        "print('math.sin(x) = ',math.sin(x))"
      ],
      "execution_count": null,
      "outputs": [
        {
          "output_type": "stream",
          "name": "stdout",
          "text": [
            "         n   ∑_{i=0}^n -1^i/(2i+1)!*x^(2i+1)   delta = -1^i/(2i+1)!*x^(2i+1)        error              epsilon       \n",
            "         0    4.000000000000000000    4.00000000000000000   4.75680249530792842    1e-05\n",
            "         1    -6.666666666666666075    -10.66666666666666607   5.90986417135873765    1e-05\n",
            "         2    1.866666666666667140    8.53333333333333321   2.62346916197459556    1e-05\n",
            "         3    -1.384126984126983650    -3.25079365079365079   0.62732448881905545    1e-05\n",
            "         4    -0.661728395061727870    0.72239858906525578   0.09507410024620033    1e-05\n",
            "         5    -0.766804553471219563    -0.10507615840949175   0.01000205816329136    1e-05\n",
            "         6    -0.756027511583066580    0.01077704188815300   0.00077498372486162    1e-05\n",
            "         7    -0.756848619536449663    -0.00082110795338309   0.00004612422852146    1e-05\n",
            "         8    -0.756800319068603566    0.00004830046784606   0.00000217623932464    1e-05\n",
            "n = 8\n",
            "x = 4\n",
            "e_to_x ≈ ∑_{i=0}^8  -1^i/(2i+1)! * x^(2i+1) = -0.7568003190686036\n",
            "epsilon = 1e-05\n",
            "math.sin(x) =  -0.7568024953079282\n"
          ]
        }
      ]
    },
    {
      "cell_type": "code",
      "source": [
        "# Returns Min n, |∑_{i=1}^{n}   -1^i/(2i+1)! * x^(2i+1) - math.sin(x)| < epsilon and ∑_{i=0}^{n} -1^i/(2i+1)! * x^(2i+1)   \n",
        "import math\n",
        "\n",
        "x = -4\n",
        "epsilon = 10**(-5)\n",
        "\n",
        "e_to_x = 0\n",
        "\n",
        "print(\"n\".rjust(10),\" \",\"∑_{i=1}^{n} -1^i/(2i+1)! * x^(2i+1)\".center(21),\" \",\"delta =-1^i/(2i+1)! * x^(2i+1)\".center(21),\" \",\"error\".center(14),\" \",\"epsilon\".center(20))\n",
        "error = 1\n",
        "i = 0\n",
        "while  epsilon <= error:\n",
        "  delta =  (((-1)**i)*(x**((2*i)+1))/math.factorial((2*i)+1)) \n",
        "  e_to_x += delta\n",
        "  error = abs(math.sin(x) - e_to_x)\n",
        "  print(format(i, '10'),\"  \", format(e_to_x, '.18f'),\"  \",format(delta, '.17f'),\" \",format(error, '.17f'),\"  \",\"{:.0e}\".format(epsilon)) \n",
        "  i = i+1\n",
        "\n",
        "\n",
        "print(\"n =\",i-1) \n",
        "print(\"x =\",x) \n",
        "print('e_to_x ≈ ∑_{i=0}^'+str(i-1),'x^i/i! =',e_to_x)  \n",
        "print(\"epsilon =\",\"{:.0e}\".format(epsilon)) \n",
        "print('math.sin(x) = ',math.sin(x))"
      ],
      "metadata": {
        "colab": {
          "base_uri": "https://localhost:8080/"
        },
        "id": "3Pn3ahtECboG",
        "outputId": "e4faebe3-3268-49b9-c8ba-586770681b5b"
      },
      "execution_count": null,
      "outputs": [
        {
          "output_type": "stream",
          "name": "stdout",
          "text": [
            "         n   ∑_{i=1}^{n} -1^i/(2i+1)! * x^(2i+1)   delta =-1^i/(2i+1)! * x^(2i+1)       error              epsilon       \n",
            "         0    -4.000000000000000000    -4.00000000000000000   4.75680249530792842    1e-05\n",
            "         1    6.666666666666666075    10.66666666666666607   5.90986417135873765    1e-05\n",
            "         2    -1.866666666666667140    -8.53333333333333321   2.62346916197459556    1e-05\n",
            "         3    1.384126984126983650    3.25079365079365079   0.62732448881905545    1e-05\n",
            "         4    0.661728395061727870    -0.72239858906525578   0.09507410024620033    1e-05\n",
            "         5    0.766804553471219563    0.10507615840949175   0.01000205816329136    1e-05\n",
            "         6    0.756027511583066580    -0.01077704188815300   0.00077498372486162    1e-05\n",
            "         7    0.756848619536449663    0.00082110795338309   0.00004612422852146    1e-05\n",
            "         8    0.756800319068603566    -0.00004830046784606   0.00000217623932464    1e-05\n",
            "n = 8\n",
            "x = -4\n",
            "e_to_x ≈ ∑_{i=0}^8 x^i/i! = 0.7568003190686036\n",
            "epsilon = 1e-05\n",
            "math.sin(x) =  0.7568024953079282\n"
          ]
        }
      ]
    },
    {
      "cell_type": "markdown",
      "metadata": {
        "id": "ZlcF8gIdjZ6t"
      },
      "source": [
        "# What is the minimun $n$ for which the $n$-th term of the Taylor series for $sin(x)$ about $0$ (Maclaurin  series) for $x$, is in absolute value less than  $\\epsilon$.\n",
        "\n",
        "$$\\min_{n \\in \\mathbb{N}}\\left|\\frac{-1^n}{(2n+1)!}  x^{2n+1} \\right| < \\epsilon$$"
      ]
    },
    {
      "cell_type": "code",
      "metadata": {
        "id": "_8y-XrmvcCLf",
        "colab": {
          "base_uri": "https://localhost:8080/"
        },
        "outputId": "f833d8a7-0353-4761-d976-142345684443"
      },
      "source": [
        "# Returns Min n, |-1^n/(2n+1)! * x^(2n+1)| < epsilon and ∑_{i=0}^{n} -1^i/(2i+1)! * x^(2i+1)\n",
        "import math\n",
        "\n",
        "x = 1\n",
        "epsilon = 10**(-5)\n",
        "\n",
        "e_to_x = 0\n",
        "\n",
        "delta = 1\n",
        "i = 0\n",
        "print(\"n\".rjust(10),\" \",\"∑_{i=0}^n -1^i/(2i+1)! * x^(2i+1)\".center(20),\" \",\" delta=-1^n/(2n+1)! * x^(2n+1)\".center(20),\" \",\"epsilon\".center(9))\n",
        "while  epsilon <= abs(delta):\n",
        "  delta = (((-1)**i)*(x**((2*i)+1))/math.factorial((2*i)+1)) \n",
        "  e_to_x += delta\n",
        "  print(format(i, '10'),\"  \", format(e_to_x, '.17f'),\"  \",format(delta, '.17f'),\"  \",\"{:.0e}\".format(epsilon)) \n",
        "  i = i+1\n",
        "\n",
        "print(\"n = \",i-1) \n",
        "print('x = ',x)\n",
        "print('e_to_x ≈ ∑_{i=0}^'+str(i-1),'-1^i/(2i+1)! * x^(2i+1) =',e_to_x)\n",
        "print(\"epsilon =\",\"{:.0e}\".format(epsilon))     \n",
        "print('math.sin(x) = ',math.sin(x))"
      ],
      "execution_count": null,
      "outputs": [
        {
          "output_type": "stream",
          "name": "stdout",
          "text": [
            "         n   ∑_{i=0}^n -1^i/(2i+1)! * x^(2i+1)    delta=-1^n/(2n+1)! * x^(2n+1)    epsilon \n",
            "         0    1.00000000000000000    1.00000000000000000    1e-05\n",
            "         1    0.83333333333333337    -0.16666666666666666    1e-05\n",
            "         2    0.84166666666666667    0.00833333333333333    1e-05\n",
            "         3    0.84146825396825398    -0.00019841269841270    1e-05\n",
            "         4    0.84147100970017641    0.00000275573192240    1e-05\n",
            "n =  4\n",
            "x =  1\n",
            "e_to_x ≈ ∑_{i=0}^4 -1^i/(2i+1)! * x^(2i+1) = 0.8414710097001764\n",
            "epsilon = 1e-05\n",
            "math.sin(x) =  0.8414709848078965\n"
          ]
        }
      ]
    },
    {
      "cell_type": "code",
      "metadata": {
        "colab": {
          "base_uri": "https://localhost:8080/"
        },
        "id": "Ifa0n-_ODOAj",
        "outputId": "14edd7a7-acae-4061-e3e4-e6cff96c8e37"
      },
      "source": [
        "# Returns Min n,|-1^n/(2n+1)! * x^(2n+1)| < epsilon and ∑_{i=0}^{n} -1^i/(2i+1)! * x^(2i+1)\n",
        "import math\n",
        "\n",
        "x = -1\n",
        "epsilon = 10**(-5)\n",
        "\n",
        "e_to_x = 0\n",
        "\n",
        "delta = 1\n",
        "i = 0\n",
        "print(\"n\".rjust(10),\" \",\"∑_{i=0}^n-1^i/(2i+1)! * x^(2i+1)\".center(20),\" \",\" delta=-1^n/(2n+1)! * x^(2n+1)\".center(20),\" \",\"epsilon\".center(9))\n",
        "while  epsilon <= abs(delta):\n",
        "  delta = (((-1)**i)*(x**((2*i)+1))/math.factorial((2*i)+1)) \n",
        "  e_to_x += delta\n",
        "  print(format(i, '10'),\"  \", format(e_to_x, '.17f'),\"  \",format(delta, '.17f'),\"  \",\"{:.0e}\".format(epsilon)) \n",
        "  i = i+1\n",
        "\n",
        "print(\"n = \",i-1) \n",
        "print('x = ',x)\n",
        "print('e_to_x ≈ ∑_{i=0}^'+str(i-1),'-1^i/(2i+1)! * x^(2i+1) =',e_to_x)\n",
        "print(\"epsilon =\",\"{:.0e}\".format(epsilon))     \n",
        "print('math.sin(x) = ',math.sin(x))"
      ],
      "execution_count": null,
      "outputs": [
        {
          "output_type": "stream",
          "name": "stdout",
          "text": [
            "         n   ∑_{i=0}^n-1^i/(2i+1)! * x^(2i+1)    delta=-1^n/(2n+1)! * x^(2n+1)    epsilon \n",
            "         0    -1.00000000000000000    -1.00000000000000000    1e-05\n",
            "         1    -0.83333333333333337    0.16666666666666666    1e-05\n",
            "         2    -0.84166666666666667    -0.00833333333333333    1e-05\n",
            "         3    -0.84146825396825398    0.00019841269841270    1e-05\n",
            "         4    -0.84147100970017641    -0.00000275573192240    1e-05\n",
            "n =  4\n",
            "x =  -1\n",
            "e_to_x ≈ ∑_{i=0}^4 -1^i/(2i+1)! * x^(2i+1) = -0.8414710097001764\n",
            "epsilon = 1e-05\n",
            "math.exp(x) =  -0.8414709848078965\n"
          ]
        }
      ]
    },
    {
      "cell_type": "code",
      "metadata": {
        "colab": {
          "base_uri": "https://localhost:8080/"
        },
        "id": "9qMzfOv0C6PM",
        "outputId": "80deca26-6c02-4d20-8759-56381127a76f"
      },
      "source": [
        "# Returns Min n,|-1^n/(2n+1)! * x^(2n+1)| < epsilon and ∑_{i=0}^{n} -1^i/(2i+1)! * x^(2i+1)\n",
        "import math\n",
        "\n",
        "x = 4\n",
        "epsilon = 10**(-5)\n",
        "\n",
        "e_to_x = 0\n",
        "\n",
        "delta = 1\n",
        "i = 0\n",
        "print(\"n\".rjust(10),\" \",\"∑_{i=0}^n-1^i/(2i+1)! * x^(2i+1)\".center(20),\" \",\" delta=-1^n/(2n+1)! * x^(2n+1)\".center(20),\" \",\"epsilon\".center(9))\n",
        "while  epsilon <= abs(delta):\n",
        "  delta = (((-1)**i)*(x**((2*i)+1))/math.factorial((2*i)+1)) \n",
        "  e_to_x += delta\n",
        "  print(format(i, '10'),\"  \", format(e_to_x, '.17f'),\"  \",format(delta, '.17f'),\"  \",\"{:.0e}\".format(epsilon)) \n",
        "  i = i+1\n",
        "\n",
        "print(\"n = \",i-1) \n",
        "print('x = ',x)\n",
        "print('e_to_x ≈ ∑_{i=0}^'+str(i-1),'-1^i/(2i+1)! * x^(2i+1) =',e_to_x)\n",
        "print(\"epsilon =\",\"{:.0e}\".format(epsilon))     \n",
        "print('math.sin(x) = ',math.sin(x))"
      ],
      "execution_count": null,
      "outputs": [
        {
          "output_type": "stream",
          "name": "stdout",
          "text": [
            "         n   ∑_{i=0}^n-1^i/(2i+1)! * x^(2i+1)    delta=-1^n/(2n+1)! * x^(2n+1)    epsilon \n",
            "         0    4.00000000000000000    4.00000000000000000    1e-05\n",
            "         1    -6.66666666666666607    -10.66666666666666607    1e-05\n",
            "         2    1.86666666666666714    8.53333333333333321    1e-05\n",
            "         3    -1.38412698412698365    -3.25079365079365079    1e-05\n",
            "         4    -0.66172839506172787    0.72239858906525578    1e-05\n",
            "         5    -0.76680455347121956    -0.10507615840949175    1e-05\n",
            "         6    -0.75602751158306658    0.01077704188815300    1e-05\n",
            "         7    -0.75684861953644966    -0.00082110795338309    1e-05\n",
            "         8    -0.75680031906860357    0.00004830046784606    1e-05\n",
            "         9    -0.75680257873961387    -0.00000225967101034    1e-05\n",
            "n =  9\n",
            "x =  4\n",
            "e_to_x ≈ ∑_{i=0}^9 -1^i/(2i+1)! * x^(2i+1) = -0.7568025787396139\n",
            "epsilon = 1e-05\n",
            "math.sin(x) =  -0.7568024953079282\n"
          ]
        }
      ]
    },
    {
      "cell_type": "code",
      "source": [
        "# Returns Min n,|-1^n/(2n+1)! * x^(2n+1)| < epsilon and ∑_{i=0}^{n} -1^i/(2i+1)! * x^(2i+1)\n",
        "import math\n",
        "\n",
        "x = -4\n",
        "epsilon = 10**(-5)\n",
        "\n",
        "e_to_x = 0\n",
        "\n",
        "delta = 1\n",
        "i = 0\n",
        "print(\"n\".rjust(10),\" \",\"∑_{i=0}^n-1^i/(2i+1)! * x^(2i+1)\".center(20),\" \",\" delta=-1^n/(2n+1)! * x^(2n+1)\".center(20),\" \",\"epsilon\".center(9))\n",
        "while  epsilon <= abs(delta):\n",
        "  delta = (((-1)**i)*(x**((2*i)+1))/math.factorial((2*i)+1)) \n",
        "  e_to_x += delta\n",
        "  print(format(i, '10'),\"  \", format(e_to_x, '.17f'),\"  \",format(delta, '.17f'),\"  \",\"{:.0e}\".format(epsilon)) \n",
        "  i = i+1\n",
        "\n",
        "print(\"n = \",i-1) \n",
        "print('x = ',x)\n",
        "print('e_to_x ≈ ∑_{i=0}^'+str(i-1),'-1^i/(2i+1)! * x^(2i+1) =',e_to_x)\n",
        "print(\"epsilon =\",\"{:.0e}\".format(epsilon))     \n",
        "print('math.sin(x) = ',math.sin(x))"
      ],
      "metadata": {
        "colab": {
          "base_uri": "https://localhost:8080/"
        },
        "id": "c3tgFlYc6sKn",
        "outputId": "01379602-2fff-4bce-e4dc-1b9b70ca06b9"
      },
      "execution_count": null,
      "outputs": [
        {
          "output_type": "stream",
          "name": "stdout",
          "text": [
            "         n   ∑_{i=0}^n-1^i/(2i+1)! * x^(2i+1)    delta=-1^n/(2n+1)! * x^(2n+1)    epsilon \n",
            "         0    -4.00000000000000000    -4.00000000000000000    1e-05\n",
            "         1    6.66666666666666607    10.66666666666666607    1e-05\n",
            "         2    -1.86666666666666714    -8.53333333333333321    1e-05\n",
            "         3    1.38412698412698365    3.25079365079365079    1e-05\n",
            "         4    0.66172839506172787    -0.72239858906525578    1e-05\n",
            "         5    0.76680455347121956    0.10507615840949175    1e-05\n",
            "         6    0.75602751158306658    -0.01077704188815300    1e-05\n",
            "         7    0.75684861953644966    0.00082110795338309    1e-05\n",
            "         8    0.75680031906860357    -0.00004830046784606    1e-05\n",
            "         9    0.75680257873961387    0.00000225967101034    1e-05\n",
            "n =  9\n",
            "x =  -4\n",
            "e_to_x ≈ ∑_{i=0}^9 -1^i/(2i+1)! * x^(2i+1) = 0.7568025787396139\n",
            "epsilon = 1e-05\n",
            "math.sin(x) =  0.7568024953079282\n"
          ]
        }
      ]
    },
    {
      "cell_type": "markdown",
      "source": [
        "# For  $x$ negative  and less than  $-9$ at the middle phase of the algorithm there are problems caused by rounding errors due to differences that produce wrong answers.\n",
        "\n",
        "https://stackoverflow.com/questions/69978341/error-of-taylor-series-ex-for-negative-x\n"
      ],
      "metadata": {
        "id": "fc0gbEw-iTQ8"
      }
    },
    {
      "cell_type": "code",
      "source": [
        "# Returns Min n,|-1^n/(2n+1)! * x^(2n+1)| < epsilon and ∑_{i=0}^{n} -1^i/(2i+1)! * x^(2i+1)\n",
        "import math\n",
        "\n",
        "x = -9\n",
        "epsilon = 10**(-5)\n",
        "\n",
        "e_to_x = 0\n",
        "\n",
        "delta = 1\n",
        "i = 0\n",
        "print(\"n\".rjust(10),\" \",\"∑_{i=0}^n-1^i/(2i+1)! * x^(2i+1)\".center(20),\" \",\" delta=-1^n/(2n+1)! * x^(2n+1)\".center(20),\" \",\"epsilon\".center(9))\n",
        "while  epsilon <= abs(delta):\n",
        "  delta = (((-1)**i)*(x**((2*i)+1))/math.factorial((2*i)+1)) \n",
        "  e_to_x += delta\n",
        "  print(format(i, '10'),\"  \", format(e_to_x, '.17f'),\"  \",format(delta, '.17f'),\"  \",\"{:.0e}\".format(epsilon)) \n",
        "  i = i+1\n",
        "\n",
        "print(\"n = \",i-1) \n",
        "print('x = ',x)\n",
        "print('e_to_x ≈ ∑_{i=0}^'+str(i-1),'-1^i/(2i+1)! * x^(2i+1) =',e_to_x)\n",
        "print(\"epsilon =\",\"{:.0e}\".format(epsilon))     \n",
        "print('math.sin(x) = ',math.sin(x))"
      ],
      "metadata": {
        "colab": {
          "base_uri": "https://localhost:8080/"
        },
        "id": "vldL9CPI7Fgn",
        "outputId": "34971681-995a-4db6-e26c-3cc83d85f757"
      },
      "execution_count": null,
      "outputs": [
        {
          "output_type": "stream",
          "name": "stdout",
          "text": [
            "         n   ∑_{i=0}^n-1^i/(2i+1)! * x^(2i+1)    delta=-1^n/(2n+1)! * x^(2n+1)    epsilon \n",
            "         0    -9.00000000000000000    -9.00000000000000000    1e-05\n",
            "         1    112.50000000000000000    121.50000000000000000    1e-05\n",
            "         2    -379.57499999999998863    -492.07499999999998863    1e-05\n",
            "         3    569.42678571428564283    949.00178571428568830    1e-05\n",
            "         4    -498.20022321428587020    -1067.62700892857151302    1e-05\n",
            "         5    287.96148336038947946    786.16170657467534966    1e-05\n",
            "         6    -120.23786428415348837    -408.19934764454296783    1e-05\n",
            "         7    37.21045552159878866    157.44831980575227703    1e-05\n",
            "         8    -9.67672794996715169    -46.88718347156594035    1e-05\n",
            "         9    1.42813129329846511    11.10485924326561680    1e-05\n",
            "        10    -0.71352013218847521    -2.14165142548694032    1e-05\n",
            "        11    -0.37068660360262112    0.34283352858585409    1e-05\n",
            "        12    -0.41696912996171143    -0.04628252635909030    1e-05\n",
            "        13    -0.41162883845873949    0.00534029150297196    1e-05\n",
            "        14    -0.41216155226630197    -0.00053271380756247    1e-05\n",
            "        15    -0.41211515461209491    0.00004639765420705    1e-05\n",
            "        16    -0.41211871352307100    -0.00000355891097611    1e-05\n",
            "n =  16\n",
            "x =  -9\n",
            "e_to_x ≈ ∑_{i=0}^16 -1^i/(2i+1)! * x^(2i+1) = -0.412118713523071\n",
            "epsilon = 1e-05\n",
            "math.sin(x) =  -0.4121184852417566\n"
          ]
        }
      ]
    },
    {
      "cell_type": "code",
      "source": [
        "# Returns Min n,|-1^n/(2n+1)! * x^(2n+1)| < epsilon and ∑_{i=0}^{n} -1^i/(2i+1)! * x^(2i+1)\n",
        "import math\n",
        "\n",
        "x = -10\n",
        "epsilon = 10**(-5)\n",
        "\n",
        "e_to_x = 0\n",
        "\n",
        "delta = 1\n",
        "i = 0\n",
        "print(\"n\".rjust(10),\" \",\"∑_{i=0}^n-1^i/(2i+1)! * x^(2i+1)\".center(20),\" \",\" delta=-1^n/(2n+1)! * x^(2n+1)\".center(20),\" \",\"epsilon\".center(9))\n",
        "while  epsilon <= abs(delta):\n",
        "  delta = (((-1)**i)*(x**((2*i)+1))/math.factorial((2*i)+1)) \n",
        "  e_to_x += delta\n",
        "  print(format(i, '10'),\"  \", format(e_to_x, '.17f'),\"  \",format(delta, '.17f'),\"  \",\"{:.0e}\".format(epsilon)) \n",
        "  i = i+1\n",
        "\n",
        "print(\"n = \",i-1) \n",
        "print('x = ',x)\n",
        "print('e_to_x ≈ ∑_{i=0}^'+str(i-1),'-1^i/(2i+1)! * x^(2i+1) =',e_to_x)\n",
        "print(\"epsilon =\",\"{:.0e}\".format(epsilon))     \n",
        "print('math.sin(x) = ',math.sin(x))"
      ],
      "metadata": {
        "colab": {
          "base_uri": "https://localhost:8080/"
        },
        "id": "qu15auzpyJG4",
        "outputId": "8366eacf-546e-40bb-a8ff-40bef711cb04"
      },
      "execution_count": null,
      "outputs": [
        {
          "output_type": "stream",
          "name": "stdout",
          "text": [
            "         n   ∑_{i=0}^n-1^i/(2i+1)! * x^(2i+1)    delta=-1^n/(2n+1)! * x^(2n+1)    epsilon \n",
            "         0    -10.00000000000000000    -10.00000000000000000    1e-05\n",
            "         1    156.66666666666665719    166.66666666666665719    1e-05\n",
            "         2    -676.66666666666674246    -833.33333333333337123    1e-05\n",
            "         3    1307.46031746031735565    1984.12698412698409811    1e-05\n",
            "         4    -1448.27160493827182108    -2755.73192239858917674    1e-05\n",
            "         5    1056.93923360590019911    2505.21083854417202019    1e-05\n",
            "         6    -548.96515007626135230    -1605.90438368216155141    1e-05\n",
            "         7    215.75122310572032802    764.71637318198168032    1e-05\n",
            "         8    -65.39450232883172021    -281.14572543455204823    1e-05\n",
            "         9    16.81185013741158230    82.20635246624330250    1e-05\n",
            "        10    -2.76109092597967987    -19.57294106339126216    1e-05\n",
            "        11    1.10707924465100405    3.86817017063068391    1e-05\n",
            "        12    0.46238421621255665    -0.64469502843844739    1e-05\n",
            "        13    0.55422111485051206    0.09183689863795547    1e-05\n",
            "        14    0.54291115196406436    -0.01130996288644772    1e-05\n",
            "        15    0.54412727700561792    0.00121612504155352    1e-05\n",
            "        16    0.54401211364941016    -0.00011516335620772    1e-05\n",
            "        17    0.54402179124236882    0.00000967759295863    1e-05\n",
            "n =  17\n",
            "x =  -10\n",
            "e_to_x ≈ ∑_{i=0}^17 -1^i/(2i+1)! * x^(2i+1) = 0.5440217912423688\n",
            "epsilon = 1e-05\n",
            "math.sin(x) =  0.5440211108893698\n"
          ]
        }
      ]
    },
    {
      "cell_type": "code",
      "source": [
        "# Returns Min n,|-1^n/(2n+1)! * x^(2n+1)| < epsilon and ∑_{i=0}^{n} -1^i/(2i+1)! * x^(2i+1)\n",
        "import math\n",
        "\n",
        "x = -35\n",
        "epsilon = 10**(-5)\n",
        "\n",
        "e_to_x = 0\n",
        "\n",
        "delta = 1\n",
        "i = 0\n",
        "print(\"n\".rjust(10),\" \",\"∑_{i=0}^n-1^i/(2i+1)! * x^(2i+1)\".center(20),\" \",\" delta=-1^n/(2n+1)! * x^(2n+1)\".center(20),\" \",\"epsilon\".center(9))\n",
        "while  epsilon <= abs(delta):\n",
        "  delta = (((-1)**i)*(x**((2*i)+1))/math.factorial((2*i)+1)) \n",
        "  e_to_x += delta\n",
        "  print(format(i, '10'),\"  \", format(e_to_x, '.17f'),\"  \",format(delta, '.17f'),\"  \",\"{:.0e}\".format(epsilon)) \n",
        "  i = i+1\n",
        "\n",
        "print(\"n = \",i-1) \n",
        "print('x = ',x)\n",
        "print('e_to_x ≈ ∑_{i=0}^'+str(i-1),'-1^i/(2i+1)! * x^(2i+1) =',e_to_x)\n",
        "print(\"epsilon =\",\"{:.0e}\".format(epsilon))     \n",
        "print('math.sin(x) = ',math.sin(x))"
      ],
      "metadata": {
        "colab": {
          "base_uri": "https://localhost:8080/"
        },
        "id": "zotJ5A3NjCMf",
        "outputId": "29f53f17-9b2a-4bfb-a94c-8e79d2e7ccde"
      },
      "execution_count": null,
      "outputs": [
        {
          "output_type": "stream",
          "name": "stdout",
          "text": [
            "         n   ∑_{i=0}^n-1^i/(2i+1)! * x^(2i+1)    delta=-1^n/(2n+1)! * x^(2n+1)    epsilon \n",
            "         0    -35.00000000000000000    -35.00000000000000000    1e-05\n",
            "         1    7110.83333333333303017    7145.83333333333303017    1e-05\n",
            "         2    -430571.45833333337213844    -437682.29166666668606922    1e-05\n",
            "         3    12335162.04861111007630825    12765733.50694444403052330    1e-05\n",
            "         4    -204859609.42370757460594177    -217194771.47231867909431458    1e-05\n",
            "         5    2213900345.60893249511718750    2418759955.03263998031616211    1e-05\n",
            "         6    -16779567249.99993896484375000    -18993467595.60887145996093750    1e-05\n",
            "         7    94015660391.05180358886718750    110795227641.05174255371093750    1e-05\n",
            "         8    -404970199389.42016601562500000    -498985859780.47198486328125000    1e-05\n",
            "         9    1382332953333.03076171875000000    1787303152722.45092773437500000    1e-05\n",
            "        10    -3830634575440.78466796875000000    -5212967528773.81542968750000000    1e-05\n",
            "        11    8789691951729.02343750000000000    12620326527169.80859375000000000    1e-05\n",
            "        12    -16976808041242.67187500000000000    -25766499992971.69531250000000000    1e-05\n",
            "        13    27986101490652.37500000000000000    44962909531895.04687500000000000    1e-05\n",
            "        14    -39845874096258.25781250000000000    -67831975586910.63281250000000000    1e-05\n",
            "        15    49502695897253.05468750000000000    89348569993511.31250000000000000    1e-05\n",
            "        16    -54145029710750.13281250000000000    -103647725608003.18750000000000000    1e-05\n",
            "        17    52551158415135.50781250000000000    106696188125885.64062500000000000    1e-05\n",
            "        18    -45574089673610.66406250000000000    -98125248088746.17187500000000000    1e-05\n",
            "        19    35534836715535.13281250000000000    81108926389145.79687500000000000    1e-05\n",
            "        20    -25049574764162.17968750000000000    -60584411479697.31250000000000000    1e-05\n",
            "        21    16044502789896.07812500000000000    41094077554058.25781250000000000    1e-05\n",
            "        22    -9379863373599.55859375000000000    -25424366163495.63671875000000000    1e-05\n",
            "        23    5025709498871.37304687500000000    14405572872470.93164062500000000    1e-05\n",
            "        24    -2477193038873.90429687500000000    -7502902537745.27734375000000000    1e-05\n",
            "        25    1127142493964.51318359375000000    3604335532838.41748046875000000    1e-05\n",
            "        26    -474929722191.89526367187500000    -1602072216156.40844726562500000    1e-05\n",
            "        27    185857639690.79846191406250000    660787361882.69372558593750000    1e-05\n",
            "        28    -67734001382.60372924804687500    -253591641073.40219116210937500    1e-05\n",
            "        29    23046174045.48443603515625000    90780175428.08816528320312500    1e-05\n",
            "        30    -7337901063.64343261718750000    -30384075109.12786865234375000    1e-05\n",
            "        31    2191154750.15114974975585938    9529055813.79458236694335938    1e-05\n",
            "        32    -614877310.40134143829345703    -2806032060.55249118804931641    1e-05\n",
            "        33    162460833.91724777221679688    777338144.31858921051025391    1e-05\n",
            "        34    -40488702.90932336449623108    -202949536.82657113671302795    1e-05\n",
            "        35    9534070.25215543806552887    50022773.16147880256175995    1e-05\n",
            "        36    -2124585.97364584356546402    -11658656.22580128163099289    1e-05\n",
            "        37    448721.03114813286811113    2573307.00479397643357515    1e-05\n",
            "        38    -89949.69353960140142590    -538670.72468773426953703    1e-05\n",
            "        39    17137.55698660349298734    107087.25052620489441324    1e-05\n",
            "        40    -3106.56058972382015781    -20244.11757632731314516    1e-05\n",
            "        41    537.14261788725207225    3643.70320761107223007    1e-05\n",
            "        42    -88.00254028131428186    -625.14515816856635411    1e-05\n",
            "        43    14.35014867304201402    102.35268895435629588    1e-05\n",
            "        44    -1.65879463251039283    -16.00894330555240685    1e-05\n",
            "        45    0.73570543455941184    2.39450006706980467    1e-05\n",
            "        46    0.39287437072578507    -0.34283106383362677    1e-05\n",
            "        47    0.43990326806018515    0.04702889733440009    1e-05\n",
            "        48    0.43371658429357862    -0.00618668376660654    1e-05\n",
            "        49    0.43449773123380669    0.00078114694022810    1e-05\n",
            "        50    0.43440298816432360    -0.00009474306948311    1e-05\n",
            "        51    0.43441403520983252    0.00001104704550893    1e-05\n",
            "        52    0.43441279595793247    -0.00000123925190004    1e-05\n",
            "n =  52\n",
            "x =  -35\n",
            "e_to_x ≈ ∑_{i=0}^52 -1^i/(2i+1)! * x^(2i+1) = 0.4344127959579325\n",
            "epsilon = 1e-05\n",
            "math.sin(x) =  0.428182669496151\n"
          ]
        }
      ]
    },
    {
      "cell_type": "code",
      "source": [
        "# Returns Min n,|-1^n/(2n+1)! * x^(2n+1)| < epsilon and ∑_{i=0}^{n} -1^i/(2i+1)! * x^(2i+1)\n",
        "import math\n",
        "\n",
        "x = -43\n",
        "epsilon = 10**(-5)\n",
        "\n",
        "e_to_x = 0\n",
        "\n",
        "delta = 1\n",
        "i = 0\n",
        "print(\"n\".rjust(10),\" \",\"∑_{i=0}^n-1^i/(2i+1)! * x^(2i+1)\".center(20),\" \",\" delta=-1^n/(2n+1)! * x^(2n+1)\".center(20),\" \",\"epsilon\".center(9))\n",
        "while  epsilon <= abs(delta):\n",
        "  delta = (((-1)**i)*(x**((2*i)+1))/math.factorial((2*i)+1)) \n",
        "  e_to_x += delta\n",
        "  print(format(i, '10'),\"  \", format(e_to_x, '.17f'),\"  \",format(delta, '.17f'),\"  \",\"{:.0e}\".format(epsilon)) \n",
        "  i = i+1\n",
        "\n",
        "print(\"n = \",i-1) \n",
        "print('x = ',x)\n",
        "print('e_to_x ≈ ∑_{i=0}^'+str(i-1),'-1^i/(2i+1)! * x^(2i+1) =',e_to_x)\n",
        "print(\"epsilon =\",\"{:.0e}\".format(epsilon))     \n",
        "print('math.sin(x) = ',math.sin(x))"
      ],
      "metadata": {
        "colab": {
          "base_uri": "https://localhost:8080/"
        },
        "id": "I-x7epgF7qSR",
        "outputId": "e45aad20-fa41-44e5-a78a-d822504dc9e4"
      },
      "execution_count": null,
      "outputs": [
        {
          "output_type": "stream",
          "name": "stdout",
          "text": [
            "         n   ∑_{i=0}^n-1^i/(2i+1)! * x^(2i+1)    delta=-1^n/(2n+1)! * x^(2n+1)    epsilon \n",
            "         0    -43.00000000000000000    -43.00000000000000000    1e-05\n",
            "         1    13208.16666666666606034    13251.16666666666606034    1e-05\n",
            "         2    -1211862.19166666665114462    -1225070.35833333339542150    1e-05\n",
            "         3    52720401.91686507314443588    53932264.10853174328804016    1e-05\n",
            "         4    -1332290102.75917935371398926    -1385010504.67604446411132812    1e-05\n",
            "         5    21948477380.38633346557617188    23280767483.14551162719726562    1e-05\n",
            "         6    -253988311570.48580932617187500    -275936788950.87213134765625000    1e-05\n",
            "         7    2175569415906.47851562500000000    2429557727476.96435546875000000    1e-05\n",
            "         8    -14340063812420.38671875000000000    -16515633228326.86523437500000000    1e-05\n",
            "         9    74950596536048.53125000000000000    89290660348468.92187500000000000    1e-05\n",
            "        10    -318140905807568.25000000000000000    -393091502343616.75000000000000000    1e-05\n",
            "        11    1118274485167426.75000000000000000    1436415390974995.00000000000000000    1e-05\n",
            "        12    -3308278944687182.00000000000000000    -4426553429854609.00000000000000000    1e-05\n",
            "        13    8350834006596540.00000000000000000    11659112951283722.00000000000000000    1e-05\n",
            "        14    -18198057430501492.00000000000000000    -26548891437098032.00000000000000000    1e-05\n",
            "        15    34585706297664380.00000000000000000    52783763728165872.00000000000000000    1e-05\n",
            "        16    -57835864851368464.00000000000000000    -92421571149032848.00000000000000000    1e-05\n",
            "        17    85767063765910320.00000000000000000    143602928617278784.00000000000000000    1e-05\n",
            "        18    -113573638196062992.00000000000000000    -199340701961973312.00000000000000000    1e-05\n",
            "        19    135131461620191184.00000000000000000    248705099816254176.00000000000000000    1e-05\n",
            "        20    -145268373477524608.00000000000000000    -280399835097715808.00000000000000000    1e-05\n",
            "        21    141807648170136832.00000000000000000    287076021647661440.00000000000000000    1e-05\n",
            "        22    -126274959924068224.00000000000000000    -268082608094205056.00000000000000000    1e-05\n",
            "        23    102996428774444800.00000000000000000    229271388698513024.00000000000000000    1e-05\n",
            "        24    -77242855963459360.00000000000000000    -180239284737904160.00000000000000000    1e-05\n",
            "        25    53448295989632704.00000000000000000    130691151953092064.00000000000000000    1e-05\n",
            "        26    -34232378887459904.00000000000000000    -87680674877092608.00000000000000000    1e-05\n",
            "        27    20354007593262064.00000000000000000    54586386480721968.00000000000000000    1e-05\n",
            "        28    -11265738209637344.00000000000000000    -31619745802899408.00000000000000000    1e-05\n",
            "        29    5819273476382822.00000000000000000    17085011686020166.00000000000000000    1e-05\n",
            "        30    -2811925050243213.00000000000000000    -8631198526626035.00000000000000000    1e-05\n",
            "        31    1273862475545711.00000000000000000    4085787525788924.00000000000000000    1e-05\n",
            "        32    -542152220411914.25000000000000000    -1816014695957625.25000000000000000    1e-05\n",
            "        33    217189971543230.25000000000000000    759342191955144.50000000000000000    1e-05\n",
            "        34    -82047818935257.00000000000000000    -299237790478487.25000000000000000    1e-05\n",
            "        35    29278272532494.09375000000000000    111326091467751.09375000000000000    1e-05\n",
            "        36    -9884958655457.15625000000000000    -39163231187951.25000000000000000    1e-05\n",
            "        37    3162395302474.71093750000000000    13047353957931.86718750000000000    1e-05\n",
            "        38    -960051291547.16552734375000000    -4122446594021.87646484375000000    1e-05\n",
            "        39    276950291112.10913085937500000    1237001582659.27465820312500000    1e-05\n",
            "        40    -76015129618.90917968750000000    -352965420731.01831054687500000    1e-05\n",
            "        41    19875711246.74655151367187500    95890840865.65573120117187500    1e-05\n",
            "        42    -4956524714.12143707275390625    -24832235960.86798858642578125    1e-05\n",
            "        43    1180177276.20800781250000000    6136701990.32944488525390625    1e-05\n",
            "        44    -268592128.81231188774108887    -1448769405.02031970024108887    1e-05\n",
            "        45    58486580.57505947351455688    327078709.38737136125564575    1e-05\n",
            "        46    -12196978.75841991603374481    -70683559.33347938954830170    1e-05\n",
            "        47    2438396.51678762957453728    14635375.27520754560828209    1e-05\n",
            "        48    -467618.18293946981430054    -2906014.69972709938883781    1e-05\n",
            "        49    86207.95391843654215336    553826.13685790635645390    1e-05\n",
            "        50    -15180.61311624353402294    -101388.56703468007617630    1e-05\n",
            "        51    2663.23425165323715191    17843.84736789677117486    1e-05\n",
            "        52    -358.12781640913726733    -3021.36206806237441924    1e-05\n",
            "        53    134.42186299902090241    492.54967940815816974    1e-05\n",
            "        54    57.05825806989378179    -77.36360492912712061    1e-05\n",
            "        55    68.77368030690901435    11.71542223701523788    1e-05\n",
            "        56    67.06209562642219169    -1.71158468048681844    1e-05\n",
            "        57    67.30349303864340982    0.24139741222121489    1e-05\n",
            "        58    67.27060593171761127    -0.03288710692580506    1e-05\n",
            "        59    67.27493638754340566    0.00433045582579501    1e-05\n",
            "        60    67.27438494037936323    -0.00055144716404235    1e-05\n",
            "        61    67.27445288825396119    0.00006794787460445    1e-05\n",
            "        62    67.27444478273008599    -0.00000810552388023    1e-05\n",
            "n =  62\n",
            "x =  -43\n",
            "e_to_x ≈ ∑_{i=0}^62 -1^i/(2i+1)! * x^(2i+1) = 67.27444478273009\n",
            "epsilon = 1e-05\n",
            "math.sin(x) =  0.8317747426285983\n"
          ]
        }
      ]
    },
    {
      "cell_type": "markdown",
      "source": [
        "# Efficeincy \n",
        "Efficient \n",
        "\n",
        "$$ \n",
        "\\begin{array}{lll}\n",
        "sin(x)  & \\approx   \\sum_{i=0}^{n} \\frac{-1^i}{(2i+1)!}  x^{2i+1} \\\\\n",
        "        & =  x - \\frac{x^3}{3!} + \\frac{x^5}{5!} - \\frac{x^7}{7!} + \\cdots  \\\\\n",
        "       & =  x - \\frac{x^3}{3!} + \\frac{x^5}{5!} - \\frac{x^7}{7!} + \\cdots \\ \\ \\text{ efficient}\n",
        "\\end{array} \n",
        "$$\n",
        "\n",
        "\n",
        "\n",
        "Additions\n",
        "$$ n \\text{ additions } $$\n",
        "\n",
        "Multiplications\n",
        "$$ n \\text{ multiplications } $$\n",
        "\n",
        "Divisions\n",
        "$$ n \\text{ divsions }$$ \n",
        "\n",
        "TOTAL \n",
        "$$ 3n = \\Theta(n) \\text{ FLOPS }$$ "
      ],
      "metadata": {
        "id": "PBe8gYqRwB-Z"
      }
    },
    {
      "cell_type": "code",
      "source": [
        "# Returns Min n,|-1^n/(2n+1)! * x^(2n+1)| < epsilon and ∑_{i=0}^{n} -1^i/(2i+1)! * x^(2i+1)\n",
        "\n",
        "import time\n",
        "\n",
        "start = time.time()\n",
        "\n",
        "x = 700\n",
        "epsilon = 10**(-20)\n",
        "\n",
        "if x < 0 :\n",
        "   x = - x\n",
        "\n",
        "\n",
        "delta = 1\n",
        "e_to_x = 1\n",
        "i = 1\n",
        "\n",
        "while  epsilon <= abs(delta):\n",
        "  delta = (((-1)**i)*(x**((2*i)+1))/math.factorial((2*i)+1)) \n",
        "  e_to_x += delta\n",
        "  i = i+1\n",
        "\n",
        "end = time.time()\n",
        "\n",
        "print(\"n = \",i-1) \n",
        "print('x = ',x)\n",
        "print('e_to_x ≈ ∑_{i=0}^'+str(i-1),'x^i/i! =',e_to_x)\n",
        "print(\"epsilon =\",\"{:.0e}\".format(epsilon))     \n",
        "print('math.sin(x) = ',math.sin(x))\n",
        "print('time = ',end - start)"
      ],
      "metadata": {
        "colab": {
          "base_uri": "https://localhost:8080/"
        },
        "id": "uqmD3vEUQO8S",
        "outputId": "cdb223c1-066f-4187-8340-490a0bfd17ec"
      },
      "execution_count": null,
      "outputs": [
        {
          "output_type": "stream",
          "name": "stdout",
          "text": [
            "n =  972\n",
            "x =  700\n",
            "e_to_x ≈ ∑_{i=0}^972 x^i/i! = -2.1736710222832293e+286\n",
            "epsilon = 1e-20\n",
            "math.sin(x) =  0.5439705233633756\n",
            "time =  0.1654977798461914\n"
          ]
        }
      ]
    },
    {
      "cell_type": "code",
      "source": [
        "# Returns Min n,|-1^n/(2n+1)! * x^(2n+1)| < epsilon and ∑_{i=0}^{n} -1^i/(2i+1)! * x^(2i+1)\n",
        "\n",
        "import time\n",
        "\n",
        "start = time.time()\n",
        "\n",
        "x = -700\n",
        "epsilon = 10**(-20)\n",
        "\n",
        "if x < 0 :\n",
        "   x = - x\n",
        "\n",
        "\n",
        "delta = 1\n",
        "e_to_x = 1\n",
        "i = 1\n",
        "\n",
        "while  epsilon <= abs(delta):\n",
        "  delta = (((-1)**i)*(x**((2*i)+1))/math.factorial((2*i)+1)) \n",
        "  e_to_x += delta\n",
        "  i = i+1\n",
        "\n",
        "end = time.time()\n",
        "\n",
        "print(\"n = \",i-1) \n",
        "print('x = ',x)\n",
        "print('e_to_x ≈ ∑_{i=0}^'+str(i-1),'x^i/i! =',e_to_x)\n",
        "print(\"epsilon =\",\"{:.0e}\".format(epsilon))     \n",
        "print('math.sin(x) = ',math.sin(x))\n",
        "print('time = ',end - start)"
      ],
      "metadata": {
        "colab": {
          "base_uri": "https://localhost:8080/"
        },
        "id": "4SidsY8ylmM7",
        "outputId": "365579b4-cd5d-480b-c65d-82bf880e9cc1"
      },
      "execution_count": null,
      "outputs": [
        {
          "output_type": "stream",
          "name": "stdout",
          "text": [
            "n =  972\n",
            "x =  700\n",
            "e_to_x ≈ ∑_{i=0}^972 x^i/i! = -2.1736710222832293e+286\n",
            "epsilon = 1e-20\n",
            "math.sin(x) =  0.5439705233633756\n",
            "time =  0.08378148078918457\n"
          ]
        }
      ]
    },
    {
      "cell_type": "markdown",
      "source": [
        "Inefficient\n",
        "\n",
        "$$ e^{ x} \\approx  \\sum_{i=0}^{n} \\frac{-1^i}{(2i+1)!}  x^{2i+1} $$\n",
        "\n",
        "Additions\n",
        "$$ n \\text{ additions } $$\n",
        "\n",
        "Multiplications\n",
        "\n",
        "* Powers - exponentiation by squaring\n",
        "$$ x^i = x**i$$\n",
        "\n",
        "<center>\n",
        "<a href=\"https://en.wikipedia.org/wiki/Exponentiation_by_squaring\">https://en.wikipedia.org/wiki/Exponentiation_by_squaring</a>\n",
        "</center>\n",
        "$$\\lg i \\text{ multiplications }$$\n",
        "<center>\n",
        "<a href=\"https://math.stackexchange.com/questions/228744/value-of-summation-of-logn\">https://math.stackexchange.com/questions/228744/value-of-summation-of-logn</a>\n",
        "</center>\n",
        "$$ \\sum_{i=1}^{n}\\lg i \\approx  n \\lg n$$ \n",
        "\n",
        "\n",
        "* Factorials\n",
        "$$math.factorial(i), $$\n",
        "$$  i-1 \\text{ mutiplications }  $$\n",
        "$$ \\sum_{i=1}^{n} i-1 = \\frac{n(n-1)}{2} =  \\frac{1}{2} n^2 - \\frac{1}{2} n\\text{ mutiplications}$$\n",
        "\n",
        "Divisions\n",
        "$$ n-1 \\text{ divsions }$$ \n",
        "\n",
        "TOTAL \n",
        "$$ \\frac{1}{2} n^2 + n \\lg n + \\frac{3}{2} n -1 = \\Theta(n^2) \\text{ FLOPS }$$ "
      ],
      "metadata": {
        "id": "WBlbS2V9Y-IZ"
      }
    },
    {
      "cell_type": "code",
      "source": [
        "\n",
        "# Returns Min n,|-1^n/(2n+1)! * x^(2n+1)| < epsilon and ∑_{i=0}^{n} -1^i/(2i+1)! * x^(2i+1)\n",
        "\n",
        "import time\n",
        "\n",
        "start = time.time()\n",
        "\n",
        "x = 700\n",
        "epsilon = 10**(-20)\n",
        "\n",
        "if x < 0 :\n",
        "   x = - x\n",
        "\n",
        "\n",
        "delta = 1\n",
        "e_to_x = 1\n",
        "i = 1\n",
        "\n",
        "while  epsilon <= abs(delta):\n",
        "  delta = (((-1)**i)*(x**((2*i)+1))/math.factorial((2*i)+1)) \n",
        "  e_to_x += delta\n",
        "  i = i+1\n",
        "\n",
        "end = time.time()\n",
        "\n",
        "print(\"n = \",i-1) \n",
        "print('x = ',x)\n",
        "print('e_to_x ≈ ∑_{i=0}^'+str(i-1),'x^i/i! =',e_to_x)\n",
        "print(\"epsilon =\",\"{:.0e}\".format(epsilon))     \n",
        "print('math.sin(x) = ',math.sin(x))\n",
        "print('time = ',end - start)"
      ],
      "metadata": {
        "colab": {
          "base_uri": "https://localhost:8080/"
        },
        "id": "_w6F5Vv6P1TA",
        "outputId": "38b6651b-ee90-48bf-a5d3-e1aa4854bf77"
      },
      "execution_count": null,
      "outputs": [
        {
          "output_type": "stream",
          "name": "stdout",
          "text": [
            "n =  972\n",
            "x =  700\n",
            "e_to_x ≈ ∑_{i=0}^972 x^i/i! = -2.1736710222832293e+286\n",
            "epsilon = 1e-20\n",
            "math.sin(x) =  0.5439705233633756\n",
            "time =  0.16657710075378418\n"
          ]
        }
      ]
    },
    {
      "cell_type": "code",
      "source": [
        "# Returns Min n,|-1^n/(2n+1)! * x^(2n+1)| < epsilon and ∑_{i=0}^{n} -1^i/(2i+1)! * x^(2i+1)\n",
        "\n",
        "import time\n",
        "\n",
        "start = time.time()\n",
        "\n",
        "x = 700\n",
        "epsilon = 10**(-20)\n",
        "\n",
        "if x < 0 :\n",
        "   x = - x\n",
        "\n",
        "\n",
        "delta = 1\n",
        "e_to_x = 1\n",
        "i = 1\n",
        "\n",
        "while  epsilon <= abs(delta):\n",
        "  delta = (((-1)**i)*(x**((2*i)+1))/math.factorial((2*i)+1)) \n",
        "  e_to_x += delta\n",
        "  i = i+1\n",
        "\n",
        "end = time.time()\n",
        "\n",
        "print(\"n = \",i-1) \n",
        "print('x = ',x)\n",
        "print('e_to_x ≈ ∑_{i=0}^'+str(i-1),'x^i/i! =',e_to_x)\n",
        "print(\"epsilon =\",\"{:.0e}\".format(epsilon))     \n",
        "print('math.sin(x) = ',math.sin(x))\n",
        "print('time = ',end - start)"
      ],
      "metadata": {
        "colab": {
          "base_uri": "https://localhost:8080/"
        },
        "id": "plhAy584UrUw",
        "outputId": "12a2d5cc-8f21-4489-fbf5-bf15f626baaf"
      },
      "execution_count": null,
      "outputs": [
        {
          "output_type": "stream",
          "name": "stdout",
          "text": [
            "n =  972\n",
            "x =  700\n",
            "e_to_x ≈ ∑_{i=0}^972 x^i/i! = -2.1736710222832293e+286\n",
            "epsilon = 1e-20\n",
            "math.sin(x) =  0.5439705233633756\n",
            "time =  0.17953276634216309\n"
          ]
        }
      ]
    },
    {
      "cell_type": "markdown",
      "metadata": {
        "id": "TxhZ8nnZpvbt"
      },
      "source": [
        "# Error using the Lagrange's formula of the Residual $E_n$\n",
        "\n",
        "* Form: Numerical Analysis Mathematics of Scientific Computing David Kincaid and Ward Cheney and Error estimates in Taylor approximations https://math.dartmouth.edu/~m8s17/ErrorEstimates.pdf\n",
        "\n",
        "## Lagrange's formula of the Residual\n",
        "For the Taylor series for $f(x)$\n",
        "\n",
        "$$ E_n = \\frac{f^{(n+1)}(\\xi)}{(n+1)!}(x-c)^{(n+1)} \\text{ for }  \\xi \\text{ between } c \\text{ and } x $$\n",
        "\n",
        "If you can find a positive real number $M$such that \n",
        "$$\\left|f^{(n+1)}(\\xi)\\right|  \\le M \\text{ for }  \\xi \\text{ between } c \\text{ and } x $$ for all\n",
        " then Lagrange’s formula tells you\n",
        "that\n",
        "$$ \\left| E_n \\right| \\le  \\frac{M}{(n+1)!}\n",
        "\\left|x − c\\right|^{(n+1)} $$\n",
        "\n",
        "For the Taylor series for $f(x) = sin(x)$ about $c=0$ (Maclaurin) \n",
        "\n",
        "* If $x \\ge 0$ then $f(n+1)(ξ)= sin(ξ) < sin(x)$ for any $0 \\le \\xi \\le x$ then \n",
        "\n",
        "$$ \\left|E_n \\right| =  \\left|\\frac{f^{(n+1)}(\\xi)}{(n+1)!}(x-c)^{(n+1)} \\right| = \\left|\\frac{sin(\\xi)}{(n+1)!}x^{(n+1)} \\right| \\le \\left| \\frac{sin(x)}{(n+1)!}x^{(n+1)} \\right| $$\n",
        "\n",
        "\n",
        "\n"
      ]
    },
    {
      "cell_type": "markdown",
      "source": [
        "<center>\n",
        "<img src = \"https://raw.githubusercontent.com/gjhernandezp/NM/main/Taylor%20Series/e_to_epsilon.png\" alt = \"e_to_minus_epsilon.png]\">  </img>\n",
        "</center>"
      ],
      "metadata": {
        "id": "jH_Sb6MJ-ouX"
      }
    },
    {
      "cell_type": "markdown",
      "source": [
        "* If $x \\le 0$ then $f(n+1)(ξ)= sin(ξ) < sin(0)  = 1$ for any $x \\le \\xi < 0$ then \n",
        "\n",
        "$$ \\left|E_n =\\right| = \\left|\\frac{f^{(n+1)}(\\xi)}{(n+1)!}(x-c)^{(n+1)} \\right| = \\left|\\frac{sin(\\xi)}{(n+1)!}x^{(n+1)} \\right| \\le  \\left|\\frac{1}{(n+1)!}x^{(n+1)}\\right| $$"
      ],
      "metadata": {
        "id": "q5c6Do4u4-PM"
      }
    },
    {
      "cell_type": "markdown",
      "source": [
        "<center>\n",
        "<img src = \"https://raw.githubusercontent.com/gjhernandezp/NM/main/Taylor%20Series/e_to_minus_epsilon.png\" alt = \"e_to_minus_epsilon.png]\">  </img>\n",
        "</center>\n",
        "\n"
      ],
      "metadata": {
        "id": "xREpo166-2I0"
      }
    },
    {
      "cell_type": "markdown",
      "metadata": {
        "id": "y1fLchcRq-mT"
      },
      "source": [
        "# What is the minimun $n$ for which the error using absolute value of the Lagrange's formula of the Residual $|E_n|$, of the Taylor series for $e^x$ about $0$ (Maclaurin  series), is less than  $\\epsilon$.\n",
        "\n",
        "$$ \\min_{n \\in \\mathbb{N}}|E_n|  < \\epsilon $$\n",
        "\n",
        "this is\n",
        "\n",
        "$$\\min_{n \\in \\mathbb{N}}\\left\\{ \\left|\\frac{sin(x)}{(n+1)!}x^{(n+1)} \\right| \\right\\} < \\epsilon \\text{ if }  x \\ge 0$$\n",
        "\n",
        "and\n",
        "\n",
        "$$\\min_{n \\in \\mathbb{N}}\\left\\{  \\left|\\frac{1}{(n+1)!}x^{(n+1)} \\right| \\right\\} < \\epsilon \\text{ if }  x < 0$$\n",
        " "
      ]
    },
    {
      "cell_type": "code",
      "metadata": {
        "colab": {
          "base_uri": "https://localhost:8080/"
        },
        "id": "hBLCJ5mUqu4T",
        "outputId": "64e2418a-fb86-4fe3-bccf-09ce91826a95"
      },
      "source": [
        "# Returns Min n, |Lagrange_Residual_n| < epsilon and ∑_{i=0}^{n} -1^i/(2i+1)! * x^(2i+1)\n",
        "\n",
        "import math\n",
        "\n",
        "x = 4\n",
        "epsilon = 10**(-5)\n",
        "\n",
        "e_to_x = 0\n",
        "\n",
        "print(\"n\".rjust(10),\" \",\" ∑_{i=0}^{n} -1^i/(2i+1)! * x^(2i+1)\".center(21),\" \",\"|Lagrange_Residual_n|\".center(20),\" \",\"epsilon\".center(20))\n",
        "error = 1\n",
        "i = 0\n",
        "while  epsilon <= abs(error):\n",
        "  e_to_x +=  (((-1)**i)*(x**((2*i)+1))/math.factorial((2*i)+1))\n",
        "  if ( x >= 0 ):\n",
        "     error = math.sin(x) * (((-1)**(i+1)*(x**((2*(i+1)+1))))/math.factorial((2*(i+1)+1)))\n",
        "  else:\n",
        "     error =  ((-1)**(i+1)*(x**((2*(i+1)+1))))/math.factorial((2*(i+1)+1))\n",
        "  print(format(i, '10'),\"  \", format(e_to_x, '.17f'),\"  \",format(error, '.17f'),\"  \",\"{:.0e}\".format(epsilon)) \n",
        "  i = i+1\n",
        "  \n",
        "print(\"n = \",i-1) \n",
        "print('x = ',x)\n",
        "print('e_to_x ≈ ∑_{i=0}^'+str(i-1),'x^i/i! =',e_to_x)\n",
        "print(\"epsilon =\",\"{:.0e}\".format(epsilon))   \n",
        "print('math.sin(x) = ',math.sin(x))\n"
      ],
      "execution_count": null,
      "outputs": [
        {
          "output_type": "stream",
          "name": "stdout",
          "text": [
            "         n    ∑_{i=0}^{n} -1^i/(2i+1)! * x^(2i+1)   |Lagrange_Residual_n|         epsilon       \n",
            "         0    4.00000000000000000    8.07255994995123416    1e-05\n",
            "         1    -6.66666666666666607    -6.45804795996098679    1e-05\n",
            "         2    1.86666666666666714    2.46020874665180456    1e-05\n",
            "         3    -1.38412698412698365    -0.54671305481151222    1e-05\n",
            "         4    -0.66172839506172787    0.07952189888167450    1e-05\n",
            "         5    -0.76680455347121956    -0.00815609219299226    1e-05\n",
            "         6    -0.75602751158306658    0.00062141654803751    1e-05\n",
            "         7    -0.75684861953644966    -0.00003655391459044    1e-05\n",
            "         8    -0.75680031906860357    0.00000171012465920    1e-05\n",
            "n =  8\n",
            "x =  4\n",
            "e_to_x ≈ ∑_{i=0}^8 x^i/i! = -0.7568003190686036\n",
            "epsilon = 1e-05\n",
            "math.sin(x) =  -0.7568024953079282\n"
          ]
        }
      ]
    },
    {
      "cell_type": "code",
      "source": [
        "\n",
        "# Returns Min n, |Lagrange_Residual_n| < epsilon and ∑_{i=0}^{n} -1^i/(2i+1)! * x^(2i+1)\n",
        "\n",
        "import math\n",
        "\n",
        "x = -4\n",
        "epsilon = 10**(-5)\n",
        "\n",
        "e_to_x = 0\n",
        "\n",
        "print(\"n\".rjust(10),\" \",\" ∑_{i=0}^{n} -1^i/(2i+1)! * x^(2i+1)\".center(21),\" \",\"|Lagrange_Residual_n|\".center(20),\" \",\"epsilon\".center(20))\n",
        "error = 1\n",
        "i = 0\n",
        "while  epsilon <= abs(error):\n",
        "  e_to_x +=  (((-1)**i)*(x**((2*i)+1))/math.factorial((2*i)+1))\n",
        "  if ( x >= 0 ):\n",
        "     error = math.sin(x) * (((-1)**(i+1)*(x**((2*(i+1)+1))))/math.factorial((2*(i+1)+1)))\n",
        "  else:\n",
        "     error =  ((-1)**(i+1)*(x**((2*(i+1)+1))))/math.factorial((2*(i+1)+1))\n",
        "  print(format(i, '10'),\"  \", format(e_to_x, '.17f'),\"  \",format(error, '.17f'),\"  \",\"{:.0e}\".format(epsilon)) \n",
        "  i = i+1\n",
        "  \n",
        "print(\"n = \",i-1) \n",
        "print('x = ',x)\n",
        "print('e_to_x ≈ ∑_{i=0}^'+str(i-1),'x^i/i! =',e_to_x)\n",
        "print(\"epsilon =\",\"{:.0e}\".format(epsilon))   \n",
        "print('math.sin(x) = ',math.sin(x))\n"
      ],
      "metadata": {
        "colab": {
          "base_uri": "https://localhost:8080/"
        },
        "id": "EzCCSnD15R0X",
        "outputId": "56b93071-b0ae-4fbf-aac3-fb22d8b08011"
      },
      "execution_count": null,
      "outputs": [
        {
          "output_type": "stream",
          "name": "stdout",
          "text": [
            "         n    ∑_{i=0}^{n} -1^i/(2i+1)! * x^(2i+1)   |Lagrange_Residual_n|         epsilon       \n",
            "         0    -4.00000000000000000    10.66666666666666607    1e-05\n",
            "         1    6.66666666666666607    -8.53333333333333321    1e-05\n",
            "         2    -1.86666666666666714    3.25079365079365079    1e-05\n",
            "         3    1.38412698412698365    -0.72239858906525578    1e-05\n",
            "         4    0.66172839506172787    0.10507615840949175    1e-05\n",
            "         5    0.76680455347121956    -0.01077704188815300    1e-05\n",
            "         6    0.75602751158306658    0.00082110795338309    1e-05\n",
            "         7    0.75684861953644966    -0.00004830046784606    1e-05\n",
            "         8    0.75680031906860357    0.00000225967101034    1e-05\n",
            "n =  8\n",
            "x =  -4\n",
            "e_to_x ≈ ∑_{i=0}^8 x^i/i! = 0.7568003190686036\n",
            "epsilon = 1e-05\n",
            "math.sin(x) =  0.7568024953079282\n"
          ]
        }
      ]
    },
    {
      "cell_type": "markdown",
      "source": [
        "#  Sympy\n",
        "\n",
        "Taylor Series Expansion with Python from Data Science Fabric\n",
        "\n",
        "https://dsfabric.org/taylor-series-expansion-with-python"
      ],
      "metadata": {
        "id": "cx2-LoLzahoa"
      }
    },
    {
      "cell_type": "code",
      "source": [
        "from sympy import series, Symbol, pi, E, N\n",
        "from sympy.functions import exp,sin\n",
        "from sympy.plotting import plot\n",
        "import matplotlib.pyplot as plt"
      ],
      "metadata": {
        "id": "hGQPpZ8gaVWN"
      },
      "execution_count": null,
      "outputs": []
    },
    {
      "cell_type": "code",
      "source": [
        "# Define symbol\n",
        "x = Symbol('x')"
      ],
      "metadata": {
        "id": "qiHCCJ3napkY"
      },
      "execution_count": null,
      "outputs": []
    },
    {
      "cell_type": "code",
      "source": [
        "# Function for Taylor Series Expansion\n",
        "\n",
        "def taylor(function, x0, n):\n",
        "    \"\"\"\n",
        "    Parameter \"function\" is our function which we want to approximate\n",
        "    \"x0\" is the point where to approximate\n",
        "    \"n\" is the order of approximation\n",
        "    \"\"\"\n",
        "    return function.series(x,x0,n)"
      ],
      "metadata": {
        "id": "z9fkRjbJatry"
      },
      "execution_count": null,
      "outputs": []
    },
    {
      "cell_type": "code",
      "source": [
        "print('sin(x)  ≅')\n",
        "taylor(sin(x), 0, 8)"
      ],
      "metadata": {
        "colab": {
          "base_uri": "https://localhost:8080/",
          "height": 71
        },
        "id": "bEtq3o7Waym6",
        "outputId": "822a1dac-cbb8-4916-8a19-ad4269e17d20"
      },
      "execution_count": null,
      "outputs": [
        {
          "output_type": "stream",
          "name": "stdout",
          "text": [
            "e(x)  ≅\n"
          ]
        },
        {
          "output_type": "execute_result",
          "data": {
            "text/plain": [
              "x - x**3/6 + x**5/120 - x**7/5040 + O(x**8)"
            ],
            "text/latex": "$\\displaystyle x - \\frac{x^{3}}{6} + \\frac{x^{5}}{120} - \\frac{x^{7}}{5040} + O\\left(x^{8}\\right)$"
          },
          "metadata": {},
          "execution_count": 35
        }
      ]
    },
    {
      "cell_type": "code",
      "source": [
        "print('sin(x) ≅', taylor(sin(x), 0, 8))"
      ],
      "metadata": {
        "colab": {
          "base_uri": "https://localhost:8080/"
        },
        "id": "VU2Q0vuYa_xQ",
        "outputId": "5c8b6464-0940-42eb-befa-4ea323fc4496"
      },
      "execution_count": null,
      "outputs": [
        {
          "output_type": "stream",
          "name": "stdout",
          "text": [
            "sin(x) ≅ x - x**3/6 + x**5/120 - x**7/5040 + O(x**8)\n"
          ]
        }
      ]
    },
    {
      "cell_type": "code",
      "source": [
        "print('sin(x) ≅ at around 1')\n",
        "taylor(sin(x), 1, 8)"
      ],
      "metadata": {
        "colab": {
          "base_uri": "https://localhost:8080/",
          "height": 104
        },
        "id": "iX0DNQdrbtdY",
        "outputId": "502a5b48-d5c5-466d-876b-2fb79da5c052"
      },
      "execution_count": null,
      "outputs": [
        {
          "output_type": "stream",
          "name": "stdout",
          "text": [
            "sin(x) ≅ at around 1\n"
          ]
        },
        {
          "output_type": "execute_result",
          "data": {
            "text/plain": [
              "sin(1) + (x - 1)*cos(1) - (x - 1)**2*sin(1)/2 - (x - 1)**3*cos(1)/6 + (x - 1)**4*sin(1)/24 + (x - 1)**5*cos(1)/120 - (x - 1)**6*sin(1)/720 - (x - 1)**7*cos(1)/5040 + O((x - 1)**8, (x, 1))"
            ],
            "text/latex": "$\\displaystyle \\sin{\\left(1 \\right)} + \\left(x - 1\\right) \\cos{\\left(1 \\right)} - \\frac{\\left(x - 1\\right)^{2} \\sin{\\left(1 \\right)}}{2} - \\frac{\\left(x - 1\\right)^{3} \\cos{\\left(1 \\right)}}{6} + \\frac{\\left(x - 1\\right)^{4} \\sin{\\left(1 \\right)}}{24} + \\frac{\\left(x - 1\\right)^{5} \\cos{\\left(1 \\right)}}{120} - \\frac{\\left(x - 1\\right)^{6} \\sin{\\left(1 \\right)}}{720} - \\frac{\\left(x - 1\\right)^{7} \\cos{\\left(1 \\right)}}{5040} + O\\left(\\left(x - 1\\right)^{8}; x\\rightarrow 1\\right)$"
          },
          "metadata": {},
          "execution_count": 37
        }
      ]
    },
    {
      "cell_type": "code",
      "source": [
        "print('sin(1) =', taylor(sin(x), 0, 4).subs(x,1))"
      ],
      "metadata": {
        "colab": {
          "base_uri": "https://localhost:8080/"
        },
        "id": "0sfHK6K4b7KQ",
        "outputId": "c916c533-384c-44b7-d7f1-d51b5fcb8dc1"
      },
      "execution_count": null,
      "outputs": [
        {
          "output_type": "stream",
          "name": "stdout",
          "text": [
            "sin(1) = O(1)\n"
          ]
        }
      ]
    },
    {
      "cell_type": "code",
      "source": [
        "print('sin(1) =', N(taylor(sin(x), 0, 4).subs(x,1)))"
      ],
      "metadata": {
        "colab": {
          "base_uri": "https://localhost:8080/"
        },
        "id": "t64ikINpcL-v",
        "outputId": "fd98c1c5-c587-40cb-d271-1e2cb50bb829"
      },
      "execution_count": null,
      "outputs": [
        {
          "output_type": "stream",
          "name": "stdout",
          "text": [
            "sin(1) = O(1)\n"
          ]
        }
      ]
    },
    {
      "cell_type": "code",
      "source": [
        "print('Taylor 0 sin(x) ≅', taylor(sin(x), 0, 0))\n",
        "print('Taylor 1 sin(x) ≅', taylor(sin(x), 0, 1))\n",
        "print('Taylor 2 sin(x) ≅', taylor(sin(x), 0, 2))\n",
        "print('Taylor 3 sin(x) ≅', taylor(sin(x), 0, 3))\n",
        "print('Taylor 4 sin(x) ≅', taylor(sin(x), 0, 4))\n",
        "print('Taylor 5 sin(x) ≅', taylor(sin(x), 0, 5))\n",
        "print('Taylor 6 sin(x) ≅', taylor(sin(x), 0, 6))\n",
        "print('Taylor 7 sin(x) ≅', taylor(sin(x), 0, 7))\n",
        "print('Taylor 8 sin(x) ≅', taylor(sin(x), 0, 8))"
      ],
      "metadata": {
        "colab": {
          "base_uri": "https://localhost:8080/"
        },
        "id": "ytUFqliacVnQ",
        "outputId": "0b199fca-6615-4e79-e15e-fd9a493d4478"
      },
      "execution_count": null,
      "outputs": [
        {
          "output_type": "stream",
          "name": "stdout",
          "text": [
            "Taylor 0 sin(x) ≅ O(1)\n",
            "Taylor 1 sin(x) ≅ O(x)\n",
            "Taylor 2 sin(x) ≅ x + O(x**2)\n",
            "Taylor 3 sin(x) ≅ x + O(x**3)\n",
            "Taylor 4 sin(x) ≅ x - x**3/6 + O(x**4)\n",
            "Taylor 5 sin(x) ≅ x - x**3/6 + O(x**5)\n",
            "Taylor 6 sin(x) ≅ x - x**3/6 + x**5/120 + O(x**6)\n",
            "Taylor 7 sin(x) ≅ x - x**3/6 + x**5/120 + O(x**7)\n",
            "Taylor 8 sin(x) ≅ x - x**3/6 + x**5/120 - x**7/5040 + O(x**8)\n"
          ]
        }
      ]
    },
    {
      "cell_type": "code",
      "source": [
        "print('Taylor 0 sin(x) ≅', taylor(sin(x), 0, 0).subs(x,1))\n",
        "print('Taylor 1 sin(x) ≅', taylor(sin(x), 0, 1).subs(x,1))\n",
        "print('Taylor 2 sin(x) ≅', taylor(sin(x), 0, 2).subs(x,1))\n",
        "print('Taylor 3 sin(x) ≅', taylor(sin(x), 0, 3).subs(x,1))\n",
        "print('Taylor 4 sin(x) ≅', taylor(sin(x), 0, 4).subs(x,1))\n",
        "print('Taylor 5 sin(x) ≅', taylor(sin(x), 0, 5).subs(x,1))\n",
        "print('Taylor 6 sin(x) ≅', taylor(sin(x), 0, 6).subs(x,1))\n",
        "print('Taylor 7 sin(x) ≅', taylor(sin(x), 0, 7).subs(x,1))\n",
        "print('Taylor 8 sin(x) ≅', taylor(sin(x), 0, 8).subs(x,1))"
      ],
      "metadata": {
        "colab": {
          "base_uri": "https://localhost:8080/"
        },
        "id": "iGvi9RgacapA",
        "outputId": "473abd7d-28bf-4f19-a2cb-3b591d0566b3"
      },
      "execution_count": null,
      "outputs": [
        {
          "output_type": "stream",
          "name": "stdout",
          "text": [
            "Taylor 0 sin(x) ≅ O(1)\n",
            "Taylor 1 sin(x) ≅ O(1)\n",
            "Taylor 2 sin(x) ≅ O(1)\n",
            "Taylor 3 sin(x) ≅ O(1)\n",
            "Taylor 4 sin(x) ≅ O(1)\n",
            "Taylor 5 sin(x) ≅ O(1)\n",
            "Taylor 6 sin(x) ≅ O(1)\n",
            "Taylor 7 sin(x) ≅ O(1)\n",
            "Taylor 8 sin(x) ≅ O(1)\n"
          ]
        }
      ]
    },
    {
      "cell_type": "code",
      "source": [
        "print('Taylor 0 sin(x) ≅', N(taylor(sin(x), 0, 0).subs(x,1)))\n",
        "print('Taylor 1 sin(x) ≅', N(taylor(sin(x), 0, 1).subs(x,1)))\n",
        "print('Taylor 2 sin(x) ≅', N(taylor(sin(x), 0, 2).subs(x,1)))\n",
        "print('Taylor 3 sin(x) ≅', N(taylor(sin(x), 0, 3).subs(x,1)))\n",
        "print('Taylor 4 sin(x) ≅', N(taylor(sin(x), 0, 4).subs(x,1)))\n",
        "print('Taylor 5 sin(x) ≅', N(taylor(sin(x), 0, 5).subs(x,1)))\n",
        "print('Taylor 6 sin(x) ≅', N(taylor(sin(x), 0, 6).subs(x,1)))\n",
        "print('Taylor 7 sin(x) ≅', N(taylor(sin(x), 0, 7).subs(x,1)))\n",
        "print('Taylor 8 sin(x) ≅', N(taylor(sin(x), 0, 8).subs(x,1)))"
      ],
      "metadata": {
        "colab": {
          "base_uri": "https://localhost:8080/"
        },
        "id": "N_VVBah_crmQ",
        "outputId": "03d8294b-3d57-4f74-974e-1803e126d62a"
      },
      "execution_count": null,
      "outputs": [
        {
          "output_type": "stream",
          "name": "stdout",
          "text": [
            "Taylor 0 sin(x) ≅ O(1)\n",
            "Taylor 1 sin(x) ≅ O(1)\n",
            "Taylor 2 sin(x) ≅ O(1)\n",
            "Taylor 3 sin(x) ≅ O(1)\n",
            "Taylor 4 sin(x) ≅ O(1)\n",
            "Taylor 5 sin(x) ≅ O(1)\n",
            "Taylor 6 sin(x) ≅ O(1)\n",
            "Taylor 7 sin(x) ≅ O(1)\n",
            "Taylor 8 sin(x) ≅ O(1)\n"
          ]
        }
      ]
    },
    {
      "cell_type": "code",
      "source": [
        "# Function for Taylor Series Expansion\n",
        "\n",
        "def taylor(function, x0, n):\n",
        "    \"\"\"\n",
        "    Parameter \"function\" is our function which we want to approximate\n",
        "    \"x0\" is the point where to approximate\n",
        "    \"n\" is the order of approximation\n",
        "    \"\"\"\n",
        "    return function.series(x,x0,n).removeO()"
      ],
      "metadata": {
        "id": "Gv65YRzdc3qQ"
      },
      "execution_count": null,
      "outputs": []
    },
    {
      "cell_type": "code",
      "source": [
        "print('sin(x)  ≅')\n",
        "taylor(sin(x), 0, 8)"
      ],
      "metadata": {
        "colab": {
          "base_uri": "https://localhost:8080/",
          "height": 71
        },
        "id": "EQtZRYJpc5Ro",
        "outputId": "d9d2efa0-c564-4888-84af-e58585594705"
      },
      "execution_count": null,
      "outputs": [
        {
          "output_type": "stream",
          "name": "stdout",
          "text": [
            "sin(x)  ≅\n"
          ]
        },
        {
          "output_type": "execute_result",
          "data": {
            "text/plain": [
              "-x**7/5040 + x**5/120 - x**3/6 + x"
            ],
            "text/latex": "$\\displaystyle - \\frac{x^{7}}{5040} + \\frac{x^{5}}{120} - \\frac{x^{3}}{6} + x$"
          },
          "metadata": {},
          "execution_count": 44
        }
      ]
    },
    {
      "cell_type": "code",
      "source": [
        "print('sin(x) ≅', taylor(sin(x), 0, 8))"
      ],
      "metadata": {
        "colab": {
          "base_uri": "https://localhost:8080/"
        },
        "id": "DcPjj8PWdBap",
        "outputId": "4ea54cc4-1b28-4bc5-940b-7d6a80234a41"
      },
      "execution_count": null,
      "outputs": [
        {
          "output_type": "stream",
          "name": "stdout",
          "text": [
            "sin(x) ≅ -x**7/5040 + x**5/120 - x**3/6 + x\n"
          ]
        }
      ]
    },
    {
      "cell_type": "code",
      "source": [
        "print('sin(x) ≅ at around 1')\n",
        "taylor(sin(x), 1, 8)"
      ],
      "metadata": {
        "colab": {
          "base_uri": "https://localhost:8080/",
          "height": 74
        },
        "outputId": "8365b9e0-089b-41a9-f7e8-afb6d9d40ac9",
        "id": "OXZgOve0dS67"
      },
      "execution_count": null,
      "outputs": [
        {
          "output_type": "stream",
          "name": "stdout",
          "text": [
            "sin(x) ≅ at around 1\n"
          ]
        },
        {
          "output_type": "execute_result",
          "data": {
            "text/plain": [
              "-(x - 1)**7*cos(1)/5040 - (x - 1)**6*sin(1)/720 + (x - 1)**5*cos(1)/120 + (x - 1)**4*sin(1)/24 - (x - 1)**3*cos(1)/6 - (x - 1)**2*sin(1)/2 + (x - 1)*cos(1) + sin(1)"
            ],
            "text/latex": "$\\displaystyle - \\frac{\\left(x - 1\\right)^{7} \\cos{\\left(1 \\right)}}{5040} - \\frac{\\left(x - 1\\right)^{6} \\sin{\\left(1 \\right)}}{720} + \\frac{\\left(x - 1\\right)^{5} \\cos{\\left(1 \\right)}}{120} + \\frac{\\left(x - 1\\right)^{4} \\sin{\\left(1 \\right)}}{24} - \\frac{\\left(x - 1\\right)^{3} \\cos{\\left(1 \\right)}}{6} - \\frac{\\left(x - 1\\right)^{2} \\sin{\\left(1 \\right)}}{2} + \\left(x - 1\\right) \\cos{\\left(1 \\right)} + \\sin{\\left(1 \\right)}$"
          },
          "metadata": {},
          "execution_count": 46
        }
      ]
    },
    {
      "cell_type": "code",
      "source": [
        "print('sin(1) =', taylor(sin(x), 0, 4).subs(x,1))"
      ],
      "metadata": {
        "colab": {
          "base_uri": "https://localhost:8080/"
        },
        "outputId": "4fb7469b-f628-4bab-9f14-e7784f43e03b",
        "id": "8OvEA2B8dS69"
      },
      "execution_count": null,
      "outputs": [
        {
          "output_type": "stream",
          "name": "stdout",
          "text": [
            "sin(1) = 5/6\n"
          ]
        }
      ]
    },
    {
      "cell_type": "code",
      "source": [
        "print('sin(1) =', N(taylor(sin(x), 0, 4).subs(x,1)))"
      ],
      "metadata": {
        "colab": {
          "base_uri": "https://localhost:8080/"
        },
        "outputId": "cc0748f7-eb03-42b7-c0d1-3fc01c1a5a99",
        "id": "HjQaTc7QdS6-"
      },
      "execution_count": null,
      "outputs": [
        {
          "output_type": "stream",
          "name": "stdout",
          "text": [
            "sin(1) = 0.833333333333333\n"
          ]
        }
      ]
    },
    {
      "cell_type": "code",
      "source": [
        "print('Taylor 0 sin(x) ≅', taylor(sin(x), 0, 0))\n",
        "print('Taylor 1 sin(x) ≅', taylor(sin(x), 0, 1))\n",
        "print('Taylor 2 sin(x) ≅', taylor(sin(x), 0, 2))\n",
        "print('Taylor 3 sin(x) ≅', taylor(sin(x), 0, 3))\n",
        "print('Taylor 4 sin(x) ≅', taylor(sin(x), 0, 4))\n",
        "print('Taylor 5 sin(x) ≅', taylor(sin(x), 0, 5))\n",
        "print('Taylor 6 sin(x) ≅', taylor(sin(x), 0, 6))\n",
        "print('Taylor 7 sin(x) ≅', taylor(sin(x), 0, 7))\n",
        "print('Taylor 8 sin(x) ≅', taylor(sin(x), 0, 8))"
      ],
      "metadata": {
        "colab": {
          "base_uri": "https://localhost:8080/"
        },
        "outputId": "c4c1cbbb-b9a2-49a9-b3b0-041f213f2829",
        "id": "8H_qhh0OdS6-"
      },
      "execution_count": null,
      "outputs": [
        {
          "output_type": "stream",
          "name": "stdout",
          "text": [
            "Taylor 0 sin(x) ≅ 0\n",
            "Taylor 1 sin(x) ≅ 0\n",
            "Taylor 2 sin(x) ≅ x\n",
            "Taylor 3 sin(x) ≅ x\n",
            "Taylor 4 sin(x) ≅ -x**3/6 + x\n",
            "Taylor 5 sin(x) ≅ -x**3/6 + x\n",
            "Taylor 6 sin(x) ≅ x**5/120 - x**3/6 + x\n",
            "Taylor 7 sin(x) ≅ x**5/120 - x**3/6 + x\n",
            "Taylor 8 sin(x) ≅ -x**7/5040 + x**5/120 - x**3/6 + x\n"
          ]
        }
      ]
    },
    {
      "cell_type": "code",
      "source": [
        "print('Taylor 0 sin(x) ≅', taylor(sin(x), 0, 0).subs(x,1))\n",
        "print('Taylor 1 sin(x) ≅', taylor(sin(x), 0, 1).subs(x,1))\n",
        "print('Taylor 2 sin(x) ≅', taylor(sin(x), 0, 2).subs(x,1))\n",
        "print('Taylor 3 sin(x) ≅', taylor(sin(x), 0, 3).subs(x,1))\n",
        "print('Taylor 4 sin(x) ≅', taylor(sin(x), 0, 4).subs(x,1))\n",
        "print('Taylor 5 sin(x) ≅', taylor(sin(x), 0, 5).subs(x,1))\n",
        "print('Taylor 6 sin(x) ≅', taylor(sin(x), 0, 6).subs(x,1))\n",
        "print('Taylor 7 sin(x) ≅', taylor(sin(x), 0, 7).subs(x,1))\n",
        "print('Taylor 8 sin(x) ≅', taylor(sin(x), 0, 8).subs(x,1))"
      ],
      "metadata": {
        "colab": {
          "base_uri": "https://localhost:8080/"
        },
        "outputId": "6ade4f0e-d5b9-462c-86c5-5a08d6daa2e3",
        "id": "Nlwipl8zdS6_"
      },
      "execution_count": null,
      "outputs": [
        {
          "output_type": "stream",
          "name": "stdout",
          "text": [
            "Taylor 0 sin(x) ≅ 0\n",
            "Taylor 1 sin(x) ≅ 0\n",
            "Taylor 2 sin(x) ≅ 1\n",
            "Taylor 3 sin(x) ≅ 1\n",
            "Taylor 4 sin(x) ≅ 5/6\n",
            "Taylor 5 sin(x) ≅ 5/6\n",
            "Taylor 6 sin(x) ≅ 101/120\n",
            "Taylor 7 sin(x) ≅ 101/120\n",
            "Taylor 8 sin(x) ≅ 4241/5040\n"
          ]
        }
      ]
    },
    {
      "cell_type": "code",
      "source": [
        "print('Taylor 0 sin(x) ≅', N(taylor(sin(x), 0, 0).subs(x,1)))\n",
        "print('Taylor 1 sin(x) ≅', N(taylor(sin(x), 0, 1).subs(x,1)))\n",
        "print('Taylor 2 sin(x) ≅', N(taylor(sin(x), 0, 2).subs(x,1)))\n",
        "print('Taylor 3 sin(x) ≅', N(taylor(sin(x), 0, 3).subs(x,1)))\n",
        "print('Taylor 4 sin(x) ≅', N(taylor(sin(x), 0, 4).subs(x,1)))\n",
        "print('Taylor 5 sin(x) ≅', N(taylor(sin(x), 0, 5).subs(x,1)))\n",
        "print('Taylor 6 sin(x) ≅', N(taylor(sin(x), 0, 6).subs(x,1)))\n",
        "print('Taylor 7 sin(x) ≅', N(taylor(sin(x), 0, 7).subs(x,1)))\n",
        "print('Taylor 8 sin(x) ≅', N(taylor(sin(x), 0, 8).subs(x,1)))"
      ],
      "metadata": {
        "colab": {
          "base_uri": "https://localhost:8080/"
        },
        "outputId": "c31f7b24-5e40-46b4-822f-059032852ed6",
        "id": "xAotZ1UMdS7A"
      },
      "execution_count": null,
      "outputs": [
        {
          "output_type": "stream",
          "name": "stdout",
          "text": [
            "Taylor 0 sin(x) ≅ 0\n",
            "Taylor 1 sin(x) ≅ 0\n",
            "Taylor 2 sin(x) ≅ 1.00000000000000\n",
            "Taylor 3 sin(x) ≅ 1.00000000000000\n",
            "Taylor 4 sin(x) ≅ 0.833333333333333\n",
            "Taylor 5 sin(x) ≅ 0.833333333333333\n",
            "Taylor 6 sin(x) ≅ 0.841666666666667\n",
            "Taylor 7 sin(x) ≅ 0.841666666666667\n",
            "Taylor 8 sin(x) ≅ 0.841468253968254\n"
          ]
        }
      ]
    },
    {
      "cell_type": "code",
      "source": [
        "import math\n",
        "import numpy as np\n",
        "import matplotlib.pyplot as plt\n",
        "# if using a Jupyter notebook, include:\n",
        "%matplotlib inline\n",
        "\n",
        "values = np.arange(-5,5,0.1)\n",
        "p_sin = np.sin(values)\n",
        "t_sin1 = [taylor(sin(x), 0, 1).subs(x,v) for v in values]\n",
        "legends = ['sin() ','Taylor 0 (constant)']\n",
        "\n",
        "fig, ax = plt.subplots()\n",
        "ax.plot(values,p_sin, color ='red')\n",
        "ax.plot(values,t_sin1)\n",
        "\n",
        "ax.set_ylim([-5,5])\n",
        "ax.axhline(y=0.0, xmin=-5.0, xmax=5.0, color='black')\n",
        "ax.axvline(x=0.0, ymin=-10.0, ymax=10.0, color='black')\n",
        "ax.legend(legends)\n"
      ],
      "metadata": {
        "colab": {
          "base_uri": "https://localhost:8080/",
          "height": 282
        },
        "id": "ckWMJz7_deTZ",
        "outputId": "d7a51935-b93e-4207-df4c-2cc9a602a0b0"
      },
      "execution_count": null,
      "outputs": [
        {
          "output_type": "execute_result",
          "data": {
            "text/plain": [
              "<matplotlib.legend.Legend at 0x7ffbbd01fa90>"
            ]
          },
          "metadata": {},
          "execution_count": 52
        },
        {
          "output_type": "display_data",
          "data": {
            "text/plain": [
              "<Figure size 432x288 with 1 Axes>"
            ],
            "image/png": "[encoded data removed]"
          },
          "metadata": {
            "needs_background": "light"
          }
        }
      ]
    },
    {
      "cell_type": "code",
      "source": [],
      "metadata": {
        "id": "WOokw4Updmb7"
      },
      "execution_count": null,
      "outputs": []
    },
    {
      "cell_type": "code",
      "metadata": {
        "colab": {
          "base_uri": "https://localhost:8080/",
          "height": 265
        },
        "id": "XvqxBhg8O7Oi",
        "outputId": "eda0e08c-da8b-4549-c09d-11abbbc8c07d"
      },
      "source": [
        "import math\n",
        "import numpy as np\n",
        "import matplotlib.pyplot as plt\n",
        "# if using a Jupyter notebook, include:\n",
        "%matplotlib inline\n",
        "\n",
        "values = np.arange(-5,5,0.1)\n",
        "p_sin = np.sin(values)\n",
        "t_sin2 = [taylor(sin(x), 0, 2).subs(x,v) for v in values]\n",
        "legends = ['sin() ','Taylor 1 (linear)']\n",
        "\n",
        "fig, ax = plt.subplots()\n",
        "ax.plot(values,p_sin, color ='red')\n",
        "ax.plot(values,t_sin2)\n",
        "\n",
        "ax.set_ylim([-5,5])\n",
        "ax.axhline(y=0.0, xmin=-5.0, xmax=5.0, color='black')\n",
        "ax.axvline(x=0.0, ymin=-10.0, ymax=10.0, color='black')\n",
        "ax.legend(legends)\n",
        "\n",
        "plt.show()"
      ],
      "execution_count": null,
      "outputs": [
        {
          "output_type": "display_data",
          "data": {
            "text/plain": [
              "<Figure size 432x288 with 1 Axes>"
            ],
            "image/png": "[encoded data removed]"
          },
          "metadata": {
            "needs_background": "light"
          }
        }
      ]
    },
    {
      "cell_type": "code",
      "metadata": {
        "colab": {
          "base_uri": "https://localhost:8080/",
          "height": 265
        },
        "id": "PLR1O9HUPFwg",
        "outputId": "e3875662-2b5a-402a-c3b6-1e5dd13cf30c"
      },
      "source": [
        "import math\n",
        "import numpy as np\n",
        "import matplotlib.pyplot as plt\n",
        "# if using a Jupyter notebook, include:\n",
        "%matplotlib inline\n",
        "\n",
        "values = np.arange(-5,5,0.1)\n",
        "p_sin = np.sin(values)\n",
        "t_sin3 = [taylor(sin(x), 0, 3).subs(x,v) for v in values]\n",
        "legends = ['sin() ','Taylor 2 (quadratic)']\n",
        "\n",
        "fig, ax = plt.subplots()\n",
        "ax.plot(values,p_sin, color ='red')\n",
        "ax.plot(values,t_sin3)\n",
        "\n",
        "ax.set_ylim([-5,5])\n",
        "ax.axhline(y=0.0, xmin=-5.0, xmax=5.0, color='black')\n",
        "ax.axvline(x=0.0, ymin=-10.0, ymax=10.0, color='black')\n",
        "ax.legend(legends)\n",
        "\n",
        "plt.show()"
      ],
      "execution_count": null,
      "outputs": [
        {
          "output_type": "display_data",
          "data": {
            "text/plain": [
              "<Figure size 432x288 with 1 Axes>"
            ],
            "image/png": "[encoded data removed]"
          },
          "metadata": {
            "needs_background": "light"
          }
        }
      ]
    },
    {
      "cell_type": "code",
      "metadata": {
        "colab": {
          "base_uri": "https://localhost:8080/",
          "height": 265
        },
        "id": "Z9AEeR_BPJCA",
        "outputId": "6d7c5893-c379-4331-eefe-264c12130d49"
      },
      "source": [
        "import math\n",
        "import numpy as np\n",
        "import matplotlib.pyplot as plt\n",
        "# if using a Jupyter notebook, include:\n",
        "%matplotlib inline\n",
        "\n",
        "values = np.arange(-5,5,0.1)\n",
        "p_sin = np.sin(values)\n",
        "t_sin4 = [taylor(sin(x), 0, 4).subs(x,v) for v in values]\n",
        "legends = ['sin() ','Taylor 3 (cubic)']\n",
        "\n",
        "fig, ax = plt.subplots()\n",
        "ax.plot(values,p_sin, color ='red')\n",
        "ax.plot(values,t_sin4)\n",
        "\n",
        "ax.set_ylim([-5,5])\n",
        "ax.axhline(y=0.0, xmin=-5.0, xmax=5.0, color='black')\n",
        "ax.axvline(x=0.0, ymin=-10.0, ymax=10.0, color='black')\n",
        "ax.legend(legends)\n",
        "\n",
        "plt.show()"
      ],
      "execution_count": null,
      "outputs": [
        {
          "output_type": "display_data",
          "data": {
            "text/plain": [
              "<Figure size 432x288 with 1 Axes>"
            ],
            "image/png": "[encoded data removed]"
          },
          "metadata": {
            "needs_background": "light"
          }
        }
      ]
    },
    {
      "cell_type": "code",
      "metadata": {
        "id": "vLO9icMdPMmg",
        "colab": {
          "base_uri": "https://localhost:8080/",
          "height": 265
        },
        "outputId": "7956e0a1-e3e9-48e1-d2f3-cc2831605c90"
      },
      "source": [
        "import math\n",
        "import numpy as np\n",
        "import matplotlib.pyplot as plt\n",
        "# if using a Jupyter notebook, include:\n",
        "%matplotlib inline\n",
        "\n",
        "values = np.arange(-5,5,0.1)\n",
        "p_sin = np.sin(values)\n",
        "t_sin1 = [taylor(sin(x), 0, 1).subs(x,v) for v in values]\n",
        "t_sin2 = [taylor(sin(x), 0, 2).subs(x,v) for v in values]\n",
        "t_sin3 = [taylor(sin(x), 0, 3).subs(x,v) for v in values]\n",
        "t_sin4 = [taylor(sin(x), 0, 4).subs(x,v) for v in values]\n",
        "legends = ['sin() ','Taylor 0 (constant)','Taylor 1 (linear)','Taylor 2 (quadratic)','Taylor 3 (cubic)']\n",
        "\n",
        "fig, ax = plt.subplots()\n",
        "ax.plot(values,p_sin)\n",
        "ax.plot(values,t_sin1)\n",
        "ax.plot(values,t_sin2)\n",
        "ax.plot(values,t_sin3)\n",
        "ax.plot(values,t_sin4)\n",
        "\n",
        "ax.set_ylim([-5,5])\n",
        "ax.axhline(y=0.0, xmin=-5.0, xmax=5.0, color='black')\n",
        "ax.axvline(x=0.0, ymin=-10.0, ymax=10.0, color='black')\n",
        "ax.legend(legends)\n",
        "\n",
        "plt.show()"
      ],
      "execution_count": null,
      "outputs": [
        {
          "output_type": "display_data",
          "data": {
            "text/plain": [
              "<Figure size 432x288 with 1 Axes>"
            ],
            "image/png": "[encoded data removed]"
          },
          "metadata": {
            "needs_background": "light"
          }
        }
      ]
    }
  ]
}